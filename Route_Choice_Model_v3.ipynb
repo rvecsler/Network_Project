{
 "cells": [
  {
   "cell_type": "code",
   "execution_count": 4,
   "metadata": {
    "collapsed": true
   },
   "outputs": [],
   "source": [
    "import numpy as np\n",
    "import pandas as pd\n",
    "\n",
    "import datetime as dt\n",
    "import time\n",
    "\n",
    "from pandas.tseries.holiday import USFederalHolidayCalendar as calendar\n",
    "\n",
    "from sklearn.preprocessing import StandardScaler\n",
    "import seaborn as sns\n",
    "from scipy import stats\n",
    "from scipy.stats import gamma\n",
    "\n",
    "import geopandas as gp\n",
    "from geopandas import sjoin\n",
    "import shapely as shp\n",
    "from shapely.geometry import Point\n",
    "import fiona as fio\n",
    "from fiona.crs import from_epsg\n",
    "\n",
    "import matplotlib.pyplot as plt\n",
    "%matplotlib inline"
   ]
  },
  {
   "cell_type": "code",
   "execution_count": 5,
   "metadata": {
    "collapsed": false
   },
   "outputs": [
    {
     "data": {
      "text/plain": [
       "{'init': 'epsg:2263', 'no_defs': True}"
      ]
     },
     "execution_count": 5,
     "metadata": {},
     "output_type": "execute_result"
    }
   ],
   "source": [
    "ndata = pd.read_csv(\"data/nyc_subway_stations_with_lines.csv\")\n",
    "\n",
    "geometry = [Point(xy) for xy in zip(ndata['stop_lon'], ndata['stop_lat'])]\n",
    "crs = {'init': 'epsg:4326', 'no_defs': True}\n",
    "#    crs = {'init': 'epsg:2263', 'no_defs': True}\n",
    "ndata_g = gp.GeoDataFrame(ndata, crs=crs, geometry=geometry)       \n",
    "ndata_g = ndata_g.to_crs(epsg=2263)\n",
    "ndata_g.drop(['stop_lon','stop_lat','Unnamed: 0'],axis=1,inplace=True)\n",
    "ndata_g[\"stop_lon\"] = ndata_g.centroid.map(lambda p: p.x)\n",
    "ndata_g[\"stop_lat\"] = ndata_g.centroid.map(lambda p: p.y)\n",
    "ndata_g.crs"
   ]
  },
  {
   "cell_type": "code",
   "execution_count": 6,
   "metadata": {
    "collapsed": false,
    "scrolled": true
   },
   "outputs": [
    {
     "name": "stderr",
     "output_type": "stream",
     "text": [
      "/anaconda/lib/python2.7/site-packages/ipykernel/__main__.py:4: SettingWithCopyWarning: \n",
      "A value is trying to be set on a copy of a slice from a DataFrame.\n",
      "Try using .loc[row_indexer,col_indexer] = value instead\n",
      "\n",
      "See the caveats in the documentation: http://pandas.pydata.org/pandas-docs/stable/indexing.html#indexing-view-versus-copy\n",
      "/anaconda/lib/python2.7/site-packages/ipykernel/__main__.py:5: SettingWithCopyWarning: \n",
      "A value is trying to be set on a copy of a slice from a DataFrame.\n",
      "Try using .loc[row_indexer,col_indexer] = value instead\n",
      "\n",
      "See the caveats in the documentation: http://pandas.pydata.org/pandas-docs/stable/indexing.html#indexing-view-versus-copy\n",
      "/anaconda/lib/python2.7/site-packages/ipykernel/__main__.py:9: SettingWithCopyWarning: \n",
      "A value is trying to be set on a copy of a slice from a DataFrame.\n",
      "Try using .loc[row_indexer,col_indexer] = value instead\n",
      "\n",
      "See the caveats in the documentation: http://pandas.pydata.org/pandas-docs/stable/indexing.html#indexing-view-versus-copy\n"
     ]
    }
   ],
   "source": [
    "od = pd.read_csv('nyc_journey_type.csv')\n",
    "od.dropna(inplace='True')\n",
    "od_trim = od[['Borough','Borough.1','Census Tract','Census Tract.1','Subway or Elevated']]\n",
    "od_trim['Borough'] = od_trim['Borough'].str[1:-1]\n",
    "od_trim['Borough.1'] = od_trim['Borough.1'].str[1:-1]\n",
    "od_trim.rename(columns={'Borough':'Boro_home','Borough.1':'Boro_work',\n",
    "                        'Census Tract':'Tract_short_home','Census Tract.1':'Tract_short_work',\n",
    "                        'Subway or Elevated':'Passengers'},inplace=True)\n",
    "od_trim['Pair_id'] = od_trim.index\n",
    "\n",
    "#od_trim.head(5)"
   ]
  },
  {
   "cell_type": "code",
   "execution_count": 7,
   "metadata": {
    "collapsed": false
   },
   "outputs": [
    {
     "data": {
      "text/plain": [
       "1428480.0"
      ]
     },
     "execution_count": 7,
     "metadata": {},
     "output_type": "execute_result"
    }
   ],
   "source": [
    "od_trim.Passengers.sum()"
   ]
  },
  {
   "cell_type": "code",
   "execution_count": 8,
   "metadata": {
    "collapsed": true
   },
   "outputs": [],
   "source": [
    "tracts_sh = gp.read_file('nyct2010_17b/nyct2010.shp')\n",
    "tracts_sh = tracts_sh.to_crs(epsg=2263)\n",
    "tracts_sh['Boro_id'] = tracts_sh.BoroCT2010.str[:1]"
   ]
  },
  {
   "cell_type": "code",
   "execution_count": 9,
   "metadata": {
    "collapsed": false
   },
   "outputs": [],
   "source": [
    "temp_h = od_trim.merge(tracts_sh,\n",
    "              left_on=['Boro_home','Tract_short_home'],\n",
    "              right_on=['BoroName',tracts_sh.BoroCT2010.astype(str).str[1:].astype(float)])\n",
    "\n",
    "temp_h = temp_h[['BoroCT2010','Passengers','Pair_id']].rename(columns={'BoroCT2010':'Tract_home'})"
   ]
  },
  {
   "cell_type": "code",
   "execution_count": 10,
   "metadata": {
    "collapsed": false
   },
   "outputs": [],
   "source": [
    "temp_w = od_trim.merge(tracts_sh,\n",
    "              left_on=['Boro_work','Tract_short_work'],\n",
    "              right_on=['BoroName',tracts_sh.BoroCT2010.astype(str).str[1:].astype(float)])\n",
    "\n",
    "temp_w = temp_w[['BoroCT2010','Pair_id']].rename(columns={'BoroCT2010':'Tract_work'})"
   ]
  },
  {
   "cell_type": "code",
   "execution_count": 11,
   "metadata": {
    "collapsed": false
   },
   "outputs": [],
   "source": [
    "od_dem = temp_h.merge(temp_w,on='Pair_id')\n",
    "od_dem = od_dem[['Tract_home','Tract_work','Passengers']]"
   ]
  },
  {
   "cell_type": "code",
   "execution_count": 12,
   "metadata": {
    "collapsed": true
   },
   "outputs": [],
   "source": [
    "sbn = pd.read_csv('data/sub_node.csv')\n",
    "\n",
    "mnd = pd.read_csv('data/master_node.csv')\n",
    "mnd.drop('Unnamed: 0',inplace=True,axis=1)\n",
    "mnd.sort_values(by='master_node_id',inplace=True)"
   ]
  },
  {
   "cell_type": "code",
   "execution_count": 13,
   "metadata": {
    "collapsed": true
   },
   "outputs": [],
   "source": [
    "id_splt = pd.DataFrame(mnd.stop_id.str.split(',').tolist(),columns=['stop_id_1','stop_id_2','stop_id_3','stop_id_4'])\n",
    "mnda =  mnd.merge(id_splt,left_index=True,right_index=True).drop(['stop_id'],axis=1)"
   ]
  },
  {
   "cell_type": "code",
   "execution_count": 14,
   "metadata": {
    "collapsed": false
   },
   "outputs": [],
   "source": [
    "mrg = pd.DataFrame()\n",
    "\n",
    "for i in ['stop_id_1','stop_id_2','stop_id_3','stop_id_4']:\n",
    "    stp = mnda.merge(\n",
    "        ndata_g,left_on=i,right_on='stop_id')[\n",
    "        ['Borough','master_node_id','stop_name_x','stop_id_1','stop_lon','stop_lat']]\n",
    "    stp.columns = ['Borough','master_node_id','stop_name','stop_id','stop_lon','stop_lat']\n",
    "    mrg = pd.concat([mrg,stp]).reset_index(drop=True)"
   ]
  },
  {
   "cell_type": "code",
   "execution_count": 15,
   "metadata": {
    "collapsed": false
   },
   "outputs": [
    {
     "data": {
      "text/plain": [
       "{'init': 'epsg:2263', 'no_defs': True}"
      ]
     },
     "execution_count": 15,
     "metadata": {},
     "output_type": "execute_result"
    }
   ],
   "source": [
    "geometry = [Point(xy) for xy in zip(mrg['stop_lon'], mrg['stop_lat'])]\n",
    "crs = {'init': 'epsg:2263', 'no_defs': True}\n",
    "mrg_g = gp.GeoDataFrame(mrg, crs=crs, geometry=geometry)   \n",
    "\n",
    "mrg_g.drop(['stop_lon','stop_lat'],axis=1,inplace=True)\n",
    "mrg_g.sort_values(by='master_node_id',inplace=True)\n",
    "\n",
    "mrg_g.crs"
   ]
  },
  {
   "cell_type": "code",
   "execution_count": 16,
   "metadata": {
    "collapsed": false
   },
   "outputs": [
    {
     "name": "stdout",
     "output_type": "stream",
     "text": [
      "geometry {'init': 'epsg:2263', 'no_defs': True}\n"
     ]
    }
   ],
   "source": [
    "stations = mrg_g.dissolve(by='master_node_id', as_index=False)\n",
    "\n",
    "stations['center'] = stations.geometry.centroid\n",
    "stations = stations.drop(['geometry'],axis=1).set_geometry('center')\n",
    "stations = stations.rename(columns={'center':'geometry'}).set_geometry('geometry')\n",
    "\n",
    "crs = {'init': 'epsg:2263', 'no_defs': True}\n",
    "stations = gp.GeoDataFrame(stations, crs=crs, geometry='geometry')\n",
    "stations = stations.to_crs(epsg=2263)\n",
    "\n",
    "print stations.geometry.name, stations.crs"
   ]
  },
  {
   "cell_type": "code",
   "execution_count": 17,
   "metadata": {
    "collapsed": false
   },
   "outputs": [
    {
     "data": {
      "text/html": [
       "<div>\n",
       "<table border=\"1\" class=\"dataframe\">\n",
       "  <thead>\n",
       "    <tr style=\"text-align: right;\">\n",
       "      <th></th>\n",
       "      <th></th>\n",
       "      <th>master_node_id</th>\n",
       "      <th>stop_name</th>\n",
       "      <th>stop_id</th>\n",
       "      <th>geometry</th>\n",
       "    </tr>\n",
       "    <tr>\n",
       "      <th>Borough</th>\n",
       "      <th>Boro_id</th>\n",
       "      <th></th>\n",
       "      <th></th>\n",
       "      <th></th>\n",
       "      <th></th>\n",
       "    </tr>\n",
       "  </thead>\n",
       "  <tbody>\n",
       "    <tr>\n",
       "      <th>Bk</th>\n",
       "      <th>3</th>\n",
       "      <td>159</td>\n",
       "      <td>159</td>\n",
       "      <td>159</td>\n",
       "      <td>159</td>\n",
       "    </tr>\n",
       "    <tr>\n",
       "      <th>Bx</th>\n",
       "      <th>2</th>\n",
       "      <td>68</td>\n",
       "      <td>68</td>\n",
       "      <td>68</td>\n",
       "      <td>68</td>\n",
       "    </tr>\n",
       "    <tr>\n",
       "      <th>M</th>\n",
       "      <th>1</th>\n",
       "      <td>137</td>\n",
       "      <td>137</td>\n",
       "      <td>137</td>\n",
       "      <td>137</td>\n",
       "    </tr>\n",
       "    <tr>\n",
       "      <th>Q</th>\n",
       "      <th>4</th>\n",
       "      <td>80</td>\n",
       "      <td>80</td>\n",
       "      <td>80</td>\n",
       "      <td>80</td>\n",
       "    </tr>\n",
       "    <tr>\n",
       "      <th>SI</th>\n",
       "      <th>5</th>\n",
       "      <td>21</td>\n",
       "      <td>21</td>\n",
       "      <td>21</td>\n",
       "      <td>21</td>\n",
       "    </tr>\n",
       "  </tbody>\n",
       "</table>\n",
       "</div>"
      ],
      "text/plain": [
       "                 master_node_id  stop_name  stop_id  geometry\n",
       "Borough Boro_id                                              \n",
       "Bk      3                   159        159      159       159\n",
       "Bx      2                    68         68       68        68\n",
       "M       1                   137        137      137       137\n",
       "Q       4                    80         80       80        80\n",
       "SI      5                    21         21       21        21"
      ]
     },
     "execution_count": 17,
     "metadata": {},
     "output_type": "execute_result"
    }
   ],
   "source": [
    "stations['Boro_id'] = \\\n",
    "    stations.Borough.apply(lambda x: x == 'M')*1 \\\n",
    "    +stations.Borough.apply(lambda x: x == 'Bx')*2 \\\n",
    "    +stations.Borough.apply(lambda x: x == 'Bk')*3 \\\n",
    "    +stations.Borough.apply(lambda x: x == 'Q')*4 \\\n",
    "    +stations.Borough.apply(lambda x: x == 'SI')*5\n",
    "\n",
    "\n",
    "stations.groupby(['Borough','Boro_id']).count()"
   ]
  },
  {
   "cell_type": "code",
   "execution_count": 18,
   "metadata": {
    "collapsed": false
   },
   "outputs": [],
   "source": [
    "def get_shortest_walk(stat, geo, bor):\n",
    "    shortest_distance = pd.DataFrame() # = []\n",
    "    geo_bor = geo[geo['Boro_id'].astype(str) == bor]\n",
    "    station_bor = stat[stat['Boro_id'].astype(str) == bor]\n",
    "    \n",
    "    tct_to_st_dist = geo_bor.geometry.centroid.apply(lambda s: station_bor.distance(s))\n",
    "    tct_to_st_dist.columns = np.array(station_bor.master_node_id)\n",
    "    tct_to_st_dist.index = np.array(geo_bor.BoroCT2010)\n",
    "    \n",
    "\n",
    "    return tct_to_st_dist"
   ]
  },
  {
   "cell_type": "code",
   "execution_count": 19,
   "metadata": {
    "collapsed": false
   },
   "outputs": [],
   "source": [
    "walk = pd.DataFrame()\n",
    "\n",
    "for i in range(1,6):\n",
    "    walking = pd.DataFrame(get_shortest_walk(stations,tracts_sh,str(i)).stack()).reset_index()\n",
    "    walking = walking.sort_values(by=['level_0',0]).reset_index().groupby('level_0')\n",
    "    walking = walking.apply(lambda df: df.iloc[0:3]).reset_index(drop=True).drop(['index'],axis=1)\n",
    "    walking.columns = ['BoroCT2010','master_node_id','walking_feet']\n",
    "    walk = pd.concat([walk,walking],ignore_index=True)\n",
    "\n",
    "walk['walking_minutes'] = (walk['walking_feet']/5280)*20"
   ]
  },
  {
   "cell_type": "code",
   "execution_count": 20,
   "metadata": {
    "collapsed": false
   },
   "outputs": [],
   "source": [
    "# bring in the durations\n",
    "\n",
    "trip_dur =  pd.read_csv('data/whole_network_duration_shortest_path.csv')"
   ]
  },
  {
   "cell_type": "code",
   "execution_count": 21,
   "metadata": {
    "collapsed": false
   },
   "outputs": [],
   "source": [
    "trip_dur['route_minutes'] = trip_dur['duration']/60\n",
    "trip_dur = trip_dur[['from_master','to_master','route_minutes']].dropna()"
   ]
  },
  {
   "cell_type": "code",
   "execution_count": 22,
   "metadata": {
    "collapsed": false
   },
   "outputs": [
    {
     "name": "stderr",
     "output_type": "stream",
     "text": [
      "/anaconda/lib/python2.7/site-packages/ipykernel/__main__.py:10: SettingWithCopyWarning: \n",
      "A value is trying to be set on a copy of a slice from a DataFrame.\n",
      "Try using .loc[row_indexer,col_indexer] = value instead\n",
      "\n",
      "See the caveats in the documentation: http://pandas.pydata.org/pandas-docs/stable/indexing.html#indexing-view-versus-copy\n"
     ]
    }
   ],
   "source": [
    "trip_temp_1 = trip_dur.merge(walk,left_on='from_master',right_on='master_node_id')\n",
    "\n",
    "trip_temp_2 = trip_temp_1[['BoroCT2010','master_node_id','from_master','walking_minutes','to_master', 'route_minutes']]\n",
    "trip_temp_2.columns = ['from_tract','master_node_id','from_master','walk_from','to_master', 'route_minutes']\n",
    "\n",
    "trip_temp_3 = trip_temp_2.merge(walk,left_on='to_master',right_on='master_node_id')\n",
    "\n",
    "trip_temp_4 = trip_temp_3[['from_tract','BoroCT2010','from_master','to_master','walk_from','walking_minutes','route_minutes']]\n",
    "trip_temp_4.rename(columns={'BoroCT2010':'to_tract','walking_minutes':'walk_to'},inplace=True)\n",
    "trip_temp_4['total_walk_minutes'] = trip_temp_4['walk_from']+trip_temp_4['walk_to']"
   ]
  },
  {
   "cell_type": "code",
   "execution_count": 23,
   "metadata": {
    "collapsed": false,
    "scrolled": true
   },
   "outputs": [
    {
     "data": {
      "text/html": [
       "<div>\n",
       "<table border=\"1\" class=\"dataframe\">\n",
       "  <thead>\n",
       "    <tr style=\"text-align: right;\">\n",
       "      <th></th>\n",
       "      <th>from_tract</th>\n",
       "      <th>to_tract</th>\n",
       "      <th>from_master</th>\n",
       "      <th>to_master</th>\n",
       "      <th>route_minutes</th>\n",
       "      <th>total_walk_minutes</th>\n",
       "      <th>Passengers</th>\n",
       "    </tr>\n",
       "  </thead>\n",
       "  <tbody>\n",
       "    <tr>\n",
       "      <th>0</th>\n",
       "      <td>4048200</td>\n",
       "      <td>3003500</td>\n",
       "      <td>169 St_0</td>\n",
       "      <td>Atlantic Av - Barclays Ctr_0</td>\n",
       "      <td>56.897059</td>\n",
       "      <td>29.964065</td>\n",
       "      <td>30.0</td>\n",
       "    </tr>\n",
       "    <tr>\n",
       "      <th>1</th>\n",
       "      <td>4048200</td>\n",
       "      <td>3003500</td>\n",
       "      <td>Jamaica - 179 St_0</td>\n",
       "      <td>Atlantic Av - Barclays Ctr_0</td>\n",
       "      <td>58.727273</td>\n",
       "      <td>19.292774</td>\n",
       "      <td>30.0</td>\n",
       "    </tr>\n",
       "    <tr>\n",
       "      <th>2</th>\n",
       "      <td>4048200</td>\n",
       "      <td>3003500</td>\n",
       "      <td>Parsons Blvd_0</td>\n",
       "      <td>Atlantic Av - Barclays Ctr_0</td>\n",
       "      <td>54.936567</td>\n",
       "      <td>40.839969</td>\n",
       "      <td>30.0</td>\n",
       "    </tr>\n",
       "    <tr>\n",
       "      <th>3</th>\n",
       "      <td>4048200</td>\n",
       "      <td>3003500</td>\n",
       "      <td>169 St_0</td>\n",
       "      <td>Fulton St_2</td>\n",
       "      <td>52.647059</td>\n",
       "      <td>30.250636</td>\n",
       "      <td>30.0</td>\n",
       "    </tr>\n",
       "    <tr>\n",
       "      <th>4</th>\n",
       "      <td>4048200</td>\n",
       "      <td>3003500</td>\n",
       "      <td>Jamaica - 179 St_0</td>\n",
       "      <td>Fulton St_2</td>\n",
       "      <td>54.477273</td>\n",
       "      <td>19.579345</td>\n",
       "      <td>30.0</td>\n",
       "    </tr>\n",
       "  </tbody>\n",
       "</table>\n",
       "</div>"
      ],
      "text/plain": [
       "  from_tract to_tract         from_master                     to_master  \\\n",
       "0    4048200  3003500            169 St_0  Atlantic Av - Barclays Ctr_0   \n",
       "1    4048200  3003500  Jamaica - 179 St_0  Atlantic Av - Barclays Ctr_0   \n",
       "2    4048200  3003500      Parsons Blvd_0  Atlantic Av - Barclays Ctr_0   \n",
       "3    4048200  3003500            169 St_0                   Fulton St_2   \n",
       "4    4048200  3003500  Jamaica - 179 St_0                   Fulton St_2   \n",
       "\n",
       "   route_minutes  total_walk_minutes  Passengers  \n",
       "0      56.897059           29.964065        30.0  \n",
       "1      58.727273           19.292774        30.0  \n",
       "2      54.936567           40.839969        30.0  \n",
       "3      52.647059           30.250636        30.0  \n",
       "4      54.477273           19.579345        30.0  "
      ]
     },
     "execution_count": 23,
     "metadata": {},
     "output_type": "execute_result"
    }
   ],
   "source": [
    "df = trip_temp_4.merge(od_dem,left_on=['from_tract','to_tract'],right_on=['Tract_home','Tract_work'],how='inner')\n",
    "\n",
    "df = df[df['Passengers'] > 0.00]\n",
    "df.reset_index(drop=True, inplace=True)\n",
    "df.drop(['Tract_home','Tract_work','walk_from','walk_to'],axis=1,inplace=True)\n",
    "df.head(5)"
   ]
  },
  {
   "cell_type": "code",
   "execution_count": 24,
   "metadata": {
    "collapsed": false
   },
   "outputs": [],
   "source": [
    "trn = pd.read_csv('data/mta_turnstile__07_23.csv')\n",
    "\n",
    "turnstile_temp = mrg.merge(trn,left_on='stop_id',right_on='N_stop_id',how='inner')[['master_node_id','ENTRIES','EXITS']]\n",
    "turnstile = turnstile_temp.groupby(['master_node_id']).sum().reset_index()\n",
    "turnstile.rename(columns={'ENTRIES':'Entries','EXITS':'Exits'},inplace=True)\n",
    "\n",
    "turnstile_work = turnstile[['master_node_id','Exits']]\n",
    "turnstile_home = turnstile[['master_node_id','Entries']]"
   ]
  },
  {
   "cell_type": "code",
   "execution_count": 25,
   "metadata": {
    "collapsed": true
   },
   "outputs": [],
   "source": [
    "walk = df['total_walk_minutes']\n",
    "route = df['route_minutes']\n"
   ]
  },
  {
   "cell_type": "code",
   "execution_count": 26,
   "metadata": {
    "collapsed": false
   },
   "outputs": [],
   "source": [
    "def mod(walk_param,route_param,data):\n",
    "    tuned_walk = []\n",
    "    tuned_route = []\n",
    "    \n",
    "    #print data\n",
    "    data['expon'] = np.exp(-walk_param*walk-route_param*route)\n",
    "\n",
    "    dfs = data.assign(expon_norm=df.expon.div(data.groupby(\n",
    "        ['from_tract','to_tract']).expon.transform('sum'))).sort_values(by=['from_tract','to_tract']).reset_index()\n",
    "    dfs['demand_dist'] = dfs['expon_norm']*data['Passengers']\n",
    "    \n",
    "    demand_work_station = dfs[['to_master','demand_dist']].groupby('to_master').sum().reset_index()\n",
    "    demand_home_station = dfs[['from_master','demand_dist']].groupby('from_master').sum().reset_index()\n",
    "\n",
    "    distribution_work = demand_work_station.merge(\n",
    "        turnstile_work, left_on = 'to_master', right_on = 'master_node_id').drop(['master_node_id'],axis=1)\n",
    "\n",
    "    distribution_home = demand_home_station.merge(\n",
    "        turnstile_home, left_on = 'from_master', right_on = 'master_node_id').drop(['master_node_id'],axis=1) \n",
    "    \n",
    "    \n",
    "    return distribution_work.sort_values(by='to_master'),distribution_home.sort_values(by='from_master')\n",
    "\n"
   ]
  },
  {
   "cell_type": "code",
   "execution_count": 27,
   "metadata": {
    "collapsed": true
   },
   "outputs": [],
   "source": [
    "def mod2(walk_param,route_param,data):\n",
    "    tuned_walk = []\n",
    "    tuned_route = []\n",
    "    \n",
    "    #print data\n",
    "    data['expon'] = np.exp(-walk_param*walk-route_param*route)\n",
    "\n",
    "    dfs = data.assign(expon_norm=df.expon.div(data.groupby(\n",
    "        ['from_tract','to_tract']).expon.transform('sum'))).sort_values(by=['from_tract','to_tract']).reset_index()\n",
    "    dfs['demand_dist'] = dfs['expon_norm']*data['Passengers']\n",
    "    \n",
    "    #demand_work_station = dfs[['to_master','demand_dist']].groupby('to_master').sum().reset_index()\n",
    "    #demand_home_station = dfs[['from_master','demand_dist']].groupby('from_master').sum().reset_index()\n",
    "\n",
    "    #distribution = demand_work_station.merge(\n",
    "    #    turnstile_work, left_on = 'to_master', right_on = 'master_node_id').drop(['master_node_id'],axis=1)\n",
    "\n",
    "    #distribution = demand_home_station.merge(\n",
    "    #    turnstile_home, left_on = 'from_master', right_on = 'master_node_id').drop(['master_node_id'],axis=1) \n",
    "    \n",
    "    \n",
    "    return dfs\n",
    "#distribution_work.sort_values(by='to_master'),distribution_home.sort_values(by='from_master')\n",
    "\n"
   ]
  },
  {
   "cell_type": "code",
   "execution_count": 28,
   "metadata": {
    "collapsed": true
   },
   "outputs": [],
   "source": [
    "dema = mod2(.147694,.379959,df)"
   ]
  },
  {
   "cell_type": "code",
   "execution_count": 29,
   "metadata": {
    "collapsed": false
   },
   "outputs": [],
   "source": [
    "demor = dema[['from_master','to_master','demand_dist']].groupby(['from_master','to_master']).sum().reset_index()"
   ]
  },
  {
   "cell_type": "code",
   "execution_count": 30,
   "metadata": {
    "collapsed": false
   },
   "outputs": [],
   "source": [
    "demor_pivot = demor.pivot(values='demand_dist',index='from_master',columns='to_master').fillna(0)"
   ]
  },
  {
   "cell_type": "code",
   "execution_count": 31,
   "metadata": {
    "collapsed": false,
    "scrolled": true
   },
   "outputs": [],
   "source": [
    "demor.to_csv('data/od_demand_distribution_v2.csv')"
   ]
  },
  {
   "cell_type": "code",
   "execution_count": 32,
   "metadata": {
    "collapsed": false
   },
   "outputs": [],
   "source": [
    "demor_pivot.to_csv('data/od_demand_distribution_matrix_v2.csv')"
   ]
  },
  {
   "cell_type": "code",
   "execution_count": 33,
   "metadata": {
    "collapsed": false
   },
   "outputs": [],
   "source": [
    "tune = []\n",
    "for i in np.linspace(.001,.6,50):\n",
    "    #print i, dt.datetime.now()\n",
    "    for j in np.linspace(.001,.6,50):\n",
    "        #nw = dt.datetime.now()\n",
    "        dist_work, dist_home = mod(i,j,df)\n",
    "        wrk_rss = sum((dist_work['demand_dist']/sum(dist_work['demand_dist']) - dist_work['Exits']/sum(dist_work['Exits']))**2)\n",
    "        hm_rss = sum((dist_home['demand_dist']/sum(dist_home['demand_dist']) - dist_home['Entries']/sum(dist_home['Entries']))**2)\n",
    "        rss = wrk_rss+hm_rss\n",
    "        tune.append([i,j,wrk_rss,hm_rss,rss])\n",
    "        \n",
    "        #print dt.datetime.now()-nw\n",
    "        \n",
    "results = pd.DataFrame(tune)\n",
    "min_wk_rss = results[results[2] == results[2].min()]\n",
    "min_hm_rss = results[results[3] == results[3].min()]\n",
    "min_rss = results[results[4] == results[4].min()]"
   ]
  },
  {
   "cell_type": "code",
   "execution_count": 40,
   "metadata": {
    "collapsed": false,
    "scrolled": true
   },
   "outputs": [
    {
     "data": {
      "text/html": [
       "<div>\n",
       "<table border=\"1\" class=\"dataframe\">\n",
       "  <thead>\n",
       "    <tr style=\"text-align: right;\">\n",
       "      <th></th>\n",
       "      <th>0</th>\n",
       "      <th>1</th>\n",
       "      <th>2</th>\n",
       "      <th>3</th>\n",
       "      <th>4</th>\n",
       "    </tr>\n",
       "  </thead>\n",
       "  <tbody>\n",
       "    <tr>\n",
       "      <th>683</th>\n",
       "      <td>0.159918</td>\n",
       "      <td>0.404408</td>\n",
       "      <td>0.003684</td>\n",
       "      <td>0.00332</td>\n",
       "      <td>0.007004</td>\n",
       "    </tr>\n",
       "  </tbody>\n",
       "</table>\n",
       "</div>"
      ],
      "text/plain": [
       "            0         1         2        3         4\n",
       "683  0.159918  0.404408  0.003684  0.00332  0.007004"
      ]
     },
     "execution_count": 40,
     "metadata": {},
     "output_type": "execute_result"
    }
   ],
   "source": [
    "min_wk_rss, min_hm_rss, min_rss\n",
    "\n",
    "rresults = pd.DataFrame(tune)\n",
    "okk = results[results[4] == results[4].min()]\n",
    "okk"
   ]
  },
  {
   "cell_type": "code",
   "execution_count": 41,
   "metadata": {
    "collapsed": false
   },
   "outputs": [
    {
     "data": {
      "text/html": [
       "<div>\n",
       "<table border=\"1\" class=\"dataframe\">\n",
       "  <thead>\n",
       "    <tr style=\"text-align: right;\">\n",
       "      <th></th>\n",
       "      <th>0</th>\n",
       "      <th>1</th>\n",
       "      <th>2</th>\n",
       "      <th>3</th>\n",
       "      <th>4</th>\n",
       "    </tr>\n",
       "  </thead>\n",
       "  <tbody>\n",
       "    <tr>\n",
       "      <th>631</th>\n",
       "      <td>0.147694</td>\n",
       "      <td>0.379959</td>\n",
       "      <td>0.003693</td>\n",
       "      <td>0.003312</td>\n",
       "      <td>0.007005</td>\n",
       "    </tr>\n",
       "    <tr>\n",
       "      <th>632</th>\n",
       "      <td>0.147694</td>\n",
       "      <td>0.392184</td>\n",
       "      <td>0.003688</td>\n",
       "      <td>0.003315</td>\n",
       "      <td>0.007004</td>\n",
       "    </tr>\n",
       "    <tr>\n",
       "      <th>633</th>\n",
       "      <td>0.147694</td>\n",
       "      <td>0.404408</td>\n",
       "      <td>0.003685</td>\n",
       "      <td>0.003320</td>\n",
       "      <td>0.007005</td>\n",
       "    </tr>\n",
       "  </tbody>\n",
       "</table>\n",
       "</div>"
      ],
      "text/plain": [
       "            0         1         2         3         4\n",
       "631  0.147694  0.379959  0.003693  0.003312  0.007005\n",
       "632  0.147694  0.392184  0.003688  0.003315  0.007004\n",
       "633  0.147694  0.404408  0.003685  0.003320  0.007005"
      ]
     },
     "execution_count": 41,
     "metadata": {},
     "output_type": "execute_result"
    }
   ],
   "source": [
    "rresults[(rresults[0] >= .1476938) & (rresults[1] >= .379)].head(3)"
   ]
  },
  {
   "cell_type": "code",
   "execution_count": 49,
   "metadata": {
    "collapsed": false
   },
   "outputs": [],
   "source": [
    "d_w, d_h = mod(.147694,.379959,df)\n",
    "#d_w, d_h = mod(.13,.3,df)\n",
    "\n",
    "d_w['dem_norm'] = d_w['demand_dist']/sum(d_w['demand_dist'])\n",
    "d_h['dem_norm'] = d_h['demand_dist']/sum(d_h['demand_dist'])\n",
    "d_w['Exits_Norm'] = d_w['Exits']/sum(d_w['Exits'])\n",
    "d_h['Entries_Norm'] = d_h['Entries']/sum(d_h['Entries'])\n",
    "\n"
   ]
  },
  {
   "cell_type": "code",
   "execution_count": 50,
   "metadata": {
    "collapsed": false
   },
   "outputs": [],
   "source": [
    "#sum((d_h['dem_norm'] - d_h['Entries_Norm'])**2)"
   ]
  },
  {
   "cell_type": "code",
   "execution_count": 51,
   "metadata": {
    "collapsed": false
   },
   "outputs": [],
   "source": [
    "fff = sum(((dist_work['demand_dist']/sum(dist_work['demand_dist']))**2 - (dist_work['Exits']/sum(dist_work['Exits']))**2))\n",
    "ggg = sum(((dist_home['demand_dist']/sum(dist_work['demand_dist']))**2 - (dist_home['Entries']/sum(dist_home['Entries']))**2))\n",
    "#ggg = sum((dist_home['demand_dist']/sum(dist_home['demand_dist']) - dist_home['Entries']/sum(dist_home['Entries']))**2)\n",
    "aaa = sum((d_w['demand_dist']/sum(d_w['demand_dist']) - dist_work['Exits']/sum(dist_work['Exits']))**2)\n",
    "bbb = sum((dist_home['demand_dist']/sum(dist_home['demand_dist']) - dist_home['Entries']/sum(dist_home['Entries']))**2)\n",
    "ss = wrk_rss+hm_rss\n"
   ]
  },
  {
   "cell_type": "code",
   "execution_count": 52,
   "metadata": {
    "collapsed": false
   },
   "outputs": [],
   "source": [
    "#sum(d_w['dem_norm']**2)+sum(d_w['Exits_Norm']**2)\n",
    "#fff+ggg"
   ]
  },
  {
   "cell_type": "code",
   "execution_count": 53,
   "metadata": {
    "collapsed": false
   },
   "outputs": [],
   "source": [
    "demand_from_home = d_h[['from_master','demand_dist']].rename(columns={'demand_dist':'demand_from'})\n",
    "demand_to_work = d_w[['to_master','demand_dist']].rename(columns={'demand_dist':'demand_to'})"
   ]
  },
  {
   "cell_type": "code",
   "execution_count": 54,
   "metadata": {
    "collapsed": false
   },
   "outputs": [],
   "source": [
    "demand_from_home = demand_from_home.sort_values(by='demand_from',ascending=False) \n",
    "#.demand_from.sum()\n",
    "demand_to_work = demand_to_work.sort_values(by='demand_to',ascending=False) #.demand_to.sum()\n"
   ]
  },
  {
   "cell_type": "code",
   "execution_count": 55,
   "metadata": {
    "collapsed": false
   },
   "outputs": [],
   "source": [
    "demand_from_home.to_csv('data/demand_from_home_v2.csv')\n",
    "demand_to_work.to_csv('data/demand_to_work_v2.csv')\n"
   ]
  },
  {
   "cell_type": "code",
   "execution_count": 56,
   "metadata": {
    "collapsed": false
   },
   "outputs": [
    {
     "data": {
      "text/plain": [
       "<matplotlib.text.Text at 0x11ddd8390>"
      ]
     },
     "execution_count": 56,
     "metadata": {},
     "output_type": "execute_result"
    },
    {
     "data": {
      "image/png": "[encoded data removed]",
      "text/plain": [
       "<matplotlib.figure.Figure at 0x1139c4410>"
      ]
     },
     "metadata": {},
     "output_type": "display_data"
    }
   ],
   "source": [
    "sns.set(style=\"whitegrid\")\n",
    "\n",
    "\n",
    "f, ax = plt.subplots(figsize=(8,8))\n",
    "\n",
    "f.patch.set_facecolor('white')\n",
    "\n",
    "ax.set_yticklabels([])\n",
    "ax.set_xticklabels([])\n",
    "\n",
    "plt.scatter(np.log(d_h['dem_norm']), np.log(d_h['Entries_Norm']),color='red',alpha= 1, s=7,marker='o', label=\"Departure\")\n",
    "plt.scatter(np.log(d_w['dem_norm']), np.log(d_w['Exits_Norm']), color='blue',alpha=1, s=7,marker='o',label=\"Arrival\")\n",
    "\n",
    "#lineStart = np.log(d_w['dem_norm']+d_h['Entries_Norm']).min() \n",
    "lineEnd = np.log(d_w['dem_norm']+d_h['Entries_Norm']).max()  \n",
    "lineStart = np.log(d_h['dem_norm']).min() \n",
    "#lineEnd = np.log(d_w['Exits_Norm']).max()  \n",
    "\n",
    "\n",
    "#plt.plot([lineStart, lineEnd], [lineStart, lineEnd], 'k-', color = 'black',linewidth=1)\n",
    "#plt.plot([lineStart1, lineEnd1], [lineStart1, lineEnd1], 'k-', color = 'blue',linewidth=1)\n",
    "\n",
    "\n",
    "plt.xlim(lineStart, lineEnd)\n",
    "plt.ylim(lineStart, lineEnd)\n",
    "\n",
    "plt.xticks([])\n",
    "plt.yticks([])\n",
    "\n",
    "plt.grid([])\n",
    "plt.legend(fontsize=19,markerscale=4)\n",
    "#plt.title('Fit to Entry / Exit Turnstile Data',fontsize=25)\n",
    "\n",
    "plt.xlabel(\"Home-to-Work Demand Allocation\", fontsize=23)\n",
    "plt.ylabel(\"Turnstile Volume\", fontsize=23)\n",
    "\n",
    "#    plt.show()\n",
    "\n"
   ]
  },
  {
   "cell_type": "code",
   "execution_count": 57,
   "metadata": {
    "collapsed": false
   },
   "outputs": [
    {
     "data": {
      "text/plain": [
       "(0.70817157831763111, 2.3201503180948587e-68)"
      ]
     },
     "execution_count": 57,
     "metadata": {},
     "output_type": "execute_result"
    }
   ],
   "source": [
    "stats.pearsonr(d_w['dem_norm'], d_w['Exits_Norm'])"
   ]
  },
  {
   "cell_type": "code",
   "execution_count": 58,
   "metadata": {
    "collapsed": false
   },
   "outputs": [
    {
     "data": {
      "text/plain": [
       "(0.23842073050153711, 4.0655670596259277e-07)"
      ]
     },
     "execution_count": 58,
     "metadata": {},
     "output_type": "execute_result"
    }
   ],
   "source": [
    "stats.pearsonr(d_h['dem_norm'], d_h['Entries_Norm'])"
   ]
  },
  {
   "cell_type": "code",
   "execution_count": 60,
   "metadata": {
    "collapsed": false
   },
   "outputs": [
    {
     "data": {
      "text/plain": [
       "(0.72784728483225314, 6.1852489775991343e-74)"
      ]
     },
     "execution_count": 60,
     "metadata": {},
     "output_type": "execute_result"
    }
   ],
   "source": [
    "stats.pearsonr(np.log(d_w['dem_norm']), np.log(d_w['Exits_Norm']))\n"
   ]
  },
  {
   "cell_type": "code",
   "execution_count": 61,
   "metadata": {
    "collapsed": false
   },
   "outputs": [
    {
     "data": {
      "text/plain": [
       "(0.37631414959384035, 2.7711043041168028e-16)"
      ]
     },
     "execution_count": 61,
     "metadata": {},
     "output_type": "execute_result"
    }
   ],
   "source": [
    "stats.pearsonr(np.log(d_h['dem_norm']), np.log(d_h['Entries_Norm']))"
   ]
  },
  {
   "cell_type": "code",
   "execution_count": 62,
   "metadata": {
    "collapsed": false
   },
   "outputs": [
    {
     "data": {
      "text/plain": [
       "0.78568036392047369"
      ]
     },
     "execution_count": 62,
     "metadata": {},
     "output_type": "execute_result"
    }
   ],
   "source": [
    "def cosin_sim(v, w):\n",
    "    return np.dot(v, w) / np.math.sqrt(np.dot(v, v) * np.dot(w, w))\n",
    "\n",
    "cosin_sim(d_w['dem_norm'], d_w['Exits_Norm'])"
   ]
  },
  {
   "cell_type": "code",
   "execution_count": 63,
   "metadata": {
    "collapsed": false
   },
   "outputs": [
    {
     "data": {
      "text/plain": [
       "0.63084503045047235"
      ]
     },
     "execution_count": 63,
     "metadata": {},
     "output_type": "execute_result"
    }
   ],
   "source": [
    "cosin_sim(d_h['dem_norm'], d_h['Entries_Norm'])"
   ]
  },
  {
   "cell_type": "code",
   "execution_count": 64,
   "metadata": {
    "collapsed": false
   },
   "outputs": [
    {
     "data": {
      "text/plain": [
       "<matplotlib.axes._subplots.AxesSubplot at 0x11cfdbdd0>"
      ]
     },
     "execution_count": 64,
     "metadata": {},
     "output_type": "execute_result"
    },
    {
     "data": {
      "image/png": "[encoded data removed]",
      "text/plain": [
       "<matplotlib.figure.Figure at 0x11d2e6f90>"
      ]
     },
     "metadata": {},
     "output_type": "display_data"
    }
   ],
   "source": [
    "sns.set(style=\"whitegrid\")\n",
    "\n",
    "sns.residplot(np.log(d_w['dem_norm']), np.log(d_w['Exits_Norm']), lowess=True, color=\"g\")\n"
   ]
  },
  {
   "cell_type": "code",
   "execution_count": 65,
   "metadata": {
    "collapsed": false,
    "scrolled": true
   },
   "outputs": [
    {
     "data": {
      "text/plain": [
       "<matplotlib.axes._subplots.AxesSubplot at 0x1245e5150>"
      ]
     },
     "execution_count": 65,
     "metadata": {},
     "output_type": "execute_result"
    },
    {
     "data": {
      "image/png": "[encoded data removed]",
      "text/plain": [
       "<matplotlib.figure.Figure at 0x1245dd390>"
      ]
     },
     "metadata": {},
     "output_type": "display_data"
    }
   ],
   "source": [
    "sns.set(style=\"whitegrid\")\n",
    "sns.residplot(np.log(d_h['dem_norm']), np.log(d_h['Entries_Norm']), lowess=True, color=\"g\")\n"
   ]
  },
  {
   "cell_type": "code",
   "execution_count": 66,
   "metadata": {
    "collapsed": false
   },
   "outputs": [
    {
     "data": {
      "image/png": "[encoded data removed]",
      "text/plain": [
       "<matplotlib.figure.Figure at 0x11d334410>"
      ]
     },
     "metadata": {},
     "output_type": "display_data"
    }
   ],
   "source": [
    "sort_value = 'Exits_Norm'\n",
    "odd = 'dem_norm'\n",
    "turnd = 'Exits_Norm'\n",
    "\n",
    "station = 'to_master'\n",
    "\n",
    "upper = 0\n",
    "lower = 10\n",
    "\n",
    "\n",
    "Sorting_OT = d_w.sort_values(by=sort_value,ascending=False).iloc[upper:lower]\n",
    "\n",
    "Sorting_OT['demand_norm'] = Sorting_OT[odd]/Sorting_OT[odd].sum()\n",
    "Sorting_OT['turn_norm'] = Sorting_OT[turnd]/Sorting_OT[turnd].sum()\n",
    "#Sorting_OT['Entries_Norm'] = Sorting_OT['Entries']/Sorting_OT['Entries'].sum()\n",
    "#Sorting_OT['Exits_Norm'] = Sorting_OT['Exits']/Sorting_OT['Exits'].sum()\n",
    "\n",
    "\n",
    "width = 0.25\n",
    "objects = Sorting_OT[station]\n",
    "pos = np.arange(len(objects))\n",
    "\n",
    "\n",
    "\n",
    "vals_od = Sorting_OT['demand_norm']\n",
    "vals_t = Sorting_OT['turn_norm']\n",
    "\n",
    "\n",
    "fig, ax = plt.subplots(figsize=(10,5))\n",
    "\n",
    "plt.bar(pos,vals_od,width,alpha=0.5,color='red',label='OD Demand')\n",
    "\n",
    "plt.bar([p + width for p in pos],vals_t,width,alpha=0.5,color='blue',label='Turnstile')\n",
    "\n",
    "\n",
    "ax.set_ylabel('Commuters')\n",
    "\n",
    "ax.set_title('OD vs Turnstile')\n",
    "\n",
    "ax.set_xticks([p + 1 * width for p in pos])\n",
    "\n",
    "ax.set_xticklabels(objects,rotation='vertical')\n",
    "\n",
    "plt.xlim(min(pos)-width, max(pos)+width*4)\n",
    "plt.ylim([0, max(vals_od + vals_t)] )\n",
    "\n",
    "plt.legend(['OD Demand', 'Turnstile'], loc='upper left')\n",
    "plt.grid()\n",
    "plt.show()"
   ]
  },
  {
   "cell_type": "code",
   "execution_count": null,
   "metadata": {
    "collapsed": true
   },
   "outputs": [],
   "source": []
  }
 ],
 "metadata": {
  "kernelspec": {
   "display_name": "Python 2",
   "language": "python",
   "name": "python2"
  },
  "language_info": {
   "codemirror_mode": {
    "name": "ipython",
    "version": 2
   },
   "file_extension": ".py",
   "mimetype": "text/x-python",
   "name": "python",
   "nbconvert_exporter": "python",
   "pygments_lexer": "ipython2",
   "version": "2.7.13"
  }
 },
 "nbformat": 4,
 "nbformat_minor": 2
}
