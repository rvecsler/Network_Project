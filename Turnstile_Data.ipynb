{
 "cells": [
  {
   "cell_type": "code",
   "execution_count": 2,
   "metadata": {
    "collapsed": false
   },
   "outputs": [],
   "source": [
    "# Turnstile Data\n",
    "\n",
    "import numpy as np\n",
    "import pandas as pd\n",
    "\n",
    "import datetime as dt\n",
    "import time\n",
    "\n",
    "from pandas.tseries.holiday import USFederalHolidayCalendar as calendar\n",
    "\n",
    "from sklearn.preprocessing import StandardScaler\n",
    "import seaborn as sns\n",
    "from scipy import stats\n",
    "from scipy.stats import gamma\n",
    "\n",
    "import geopandas as gp\n",
    "from geopandas import sjoin\n",
    "import shapely as shp\n",
    "from shapely.geometry import Point\n",
    "import fiona as fio\n",
    "from fiona.crs import from_epsg\n",
    "\n",
    "import matplotlib.pyplot as plt\n",
    "%matplotlib inline"
   ]
  },
  {
   "cell_type": "code",
   "execution_count": 3,
   "metadata": {
    "collapsed": true
   },
   "outputs": [],
   "source": [
    "mta_2016 = pd.read_csv('data/mta_2016.csv')"
   ]
  },
  {
   "cell_type": "code",
   "execution_count": 4,
   "metadata": {
    "collapsed": false
   },
   "outputs": [],
   "source": [
    "mta_2016.drop(['Unnamed: 0'],axis=1,inplace=True)\n",
    "mta_2016['PLATFORM'] = mta_2016['STATION']+\" - \"+mta_2016['LINENAME']\n",
    "mta_2016['DT'] = pd.to_datetime(mta_2016['DATE'])\n",
    "mta_2016.rename(columns={'EXITS                                                               ':'EXITS'},inplace=True)\n",
    "mta_2016 = mta_2016[mta_2016['DT'].dt.year == 2016]"
   ]
  },
  {
   "cell_type": "code",
   "execution_count": 5,
   "metadata": {
    "collapsed": true
   },
   "outputs": [],
   "source": [
    "df = mta_2016[mta_2016.DESC == 'REGULAR']\n",
    "df = df.groupby(['C/A', 'UNIT', 'STATION','PLATFORM', 'SCP', 'DT']).sum()"
   ]
  },
  {
   "cell_type": "code",
   "execution_count": 6,
   "metadata": {
    "collapsed": true
   },
   "outputs": [],
   "source": [
    "df[\"ENTRIES_ACT\"] = df.groupby(level=[0,1,2,3])['ENTRIES'].transform(lambda x: abs(x - x.shift()))\n",
    "df[\"EXITS_ACT\"] = df.groupby(level=[0,1,2,3])['EXITS'].transform(lambda x: abs(x - x.shift()))"
   ]
  },
  {
   "cell_type": "code",
   "execution_count": 7,
   "metadata": {
    "collapsed": true
   },
   "outputs": [],
   "source": [
    "df.dropna(inplace=True)\n",
    "df.reset_index(inplace=True)"
   ]
  },
  {
   "cell_type": "code",
   "execution_count": 8,
   "metadata": {
    "collapsed": false,
    "scrolled": true
   },
   "outputs": [],
   "source": [
    "df.drop(['ENTRIES', 'EXITS'], axis=1, inplace=True)\n",
    "df.reset_index(inplace=True)"
   ]
  },
  {
   "cell_type": "code",
   "execution_count": 9,
   "metadata": {
    "collapsed": false,
    "scrolled": true
   },
   "outputs": [
    {
     "data": {
      "text/plain": [
       "2727.9642999991775"
      ]
     },
     "execution_count": 9,
     "metadata": {},
     "output_type": "execute_result"
    }
   ],
   "source": [
    "df.ENTRIES_ACT.quantile(0.9993)"
   ]
  },
  {
   "cell_type": "code",
   "execution_count": 10,
   "metadata": {
    "collapsed": false
   },
   "outputs": [
    {
     "data": {
      "text/plain": [
       "3185.0"
      ]
     },
     "execution_count": 10,
     "metadata": {},
     "output_type": "execute_result"
    }
   ],
   "source": [
    "df.EXITS_ACT.quantile(0.9993)"
   ]
  },
  {
   "cell_type": "code",
   "execution_count": 11,
   "metadata": {
    "collapsed": false
   },
   "outputs": [],
   "source": [
    "reduced_entries = df[df.ENTRIES_ACT < df.ENTRIES_ACT.quantile(0.9993)]['ENTRIES_ACT']\n",
    "    \n",
    "lower_thresh_entries = 0\n",
    "upper_thresh_entries = reduced_entries.mean() + 3 * reduced_entries.std()\n",
    "                                                                           \n",
    "\n",
    "reduced_exits = df[df.EXITS_ACT < df.EXITS_ACT.quantile(0.9993)]['EXITS_ACT']\n",
    "    \n",
    "lower_thresh_exits = 0\n",
    "upper_thresh_exits = reduced_exits.mean() + 3 * reduced_exits.std()\n",
    " "
   ]
  },
  {
   "cell_type": "code",
   "execution_count": 12,
   "metadata": {
    "collapsed": false,
    "scrolled": true
   },
   "outputs": [
    {
     "name": "stdout",
     "output_type": "stream",
     "text": [
      "(182.74373632809838, 975.603420372128)\n",
      "(138.05732175457553, 832.9042776247456)\n"
     ]
    }
   ],
   "source": [
    "print (reduced_entries.mean(),upper_thresh_entries)\n",
    "print (reduced_exits.mean(),upper_thresh_exits)\n"
   ]
  },
  {
   "cell_type": "code",
   "execution_count": 13,
   "metadata": {
    "collapsed": true
   },
   "outputs": [],
   "source": [
    "outlier_mask_entries = df['ENTRIES_ACT'].map(lambda x: lower_thresh_entries <= x <= upper_thresh_entries)\n",
    "    \n",
    "outlier_mask_exits = df['EXITS_ACT'].map(lambda x: lower_thresh_exits <= x <= upper_thresh_exits)\n",
    "    \n",
    "df = df[outlier_mask_entries & outlier_mask_exits]"
   ]
  },
  {
   "cell_type": "code",
   "execution_count": 14,
   "metadata": {
    "collapsed": false
   },
   "outputs": [],
   "source": [
    "df = df.set_index('DT').groupby([pd.TimeGrouper('H'), 'PLATFORM']).sum()"
   ]
  },
  {
   "cell_type": "code",
   "execution_count": 15,
   "metadata": {
    "collapsed": false
   },
   "outputs": [],
   "source": [
    "df.reset_index(inplace=True)"
   ]
  },
  {
   "cell_type": "code",
   "execution_count": 16,
   "metadata": {
    "collapsed": false
   },
   "outputs": [
    {
     "data": {
      "text/html": [
       "<div>\n",
       "<table border=\"1\" class=\"dataframe\">\n",
       "  <thead>\n",
       "    <tr style=\"text-align: right;\">\n",
       "      <th></th>\n",
       "      <th>DT</th>\n",
       "      <th>PLATFORM</th>\n",
       "      <th>index</th>\n",
       "      <th>ENTRIES_ACT</th>\n",
       "      <th>EXITS_ACT</th>\n",
       "    </tr>\n",
       "  </thead>\n",
       "  <tbody>\n",
       "    <tr>\n",
       "      <th>0</th>\n",
       "      <td>2016-01-01</td>\n",
       "      <td>23 ST - 6</td>\n",
       "      <td>7544606</td>\n",
       "      <td>478.0</td>\n",
       "      <td>96.0</td>\n",
       "    </tr>\n",
       "    <tr>\n",
       "      <th>1</th>\n",
       "      <td>2016-01-01</td>\n",
       "      <td>B'WAY-LAFAYETTE - BDFQ6</td>\n",
       "      <td>5074266</td>\n",
       "      <td>281.0</td>\n",
       "      <td>163.0</td>\n",
       "    </tr>\n",
       "    <tr>\n",
       "      <th>2</th>\n",
       "      <td>2016-01-01</td>\n",
       "      <td>BUHRE AV - 6</td>\n",
       "      <td>8850089</td>\n",
       "      <td>293.0</td>\n",
       "      <td>314.0</td>\n",
       "    </tr>\n",
       "    <tr>\n",
       "      <th>3</th>\n",
       "      <td>2016-01-01</td>\n",
       "      <td>CANAL ST - JNQRZ6</td>\n",
       "      <td>386264</td>\n",
       "      <td>598.0</td>\n",
       "      <td>321.0</td>\n",
       "    </tr>\n",
       "    <tr>\n",
       "      <th>4</th>\n",
       "      <td>2016-01-01</td>\n",
       "      <td>CORTLANDT ST - R</td>\n",
       "      <td>491348</td>\n",
       "      <td>823.0</td>\n",
       "      <td>341.0</td>\n",
       "    </tr>\n",
       "  </tbody>\n",
       "</table>\n",
       "</div>"
      ],
      "text/plain": [
       "          DT                 PLATFORM    index  ENTRIES_ACT  EXITS_ACT\n",
       "0 2016-01-01                23 ST - 6  7544606        478.0       96.0\n",
       "1 2016-01-01  B'WAY-LAFAYETTE - BDFQ6  5074266        281.0      163.0\n",
       "2 2016-01-01             BUHRE AV - 6  8850089        293.0      314.0\n",
       "3 2016-01-01        CANAL ST - JNQRZ6   386264        598.0      321.0\n",
       "4 2016-01-01         CORTLANDT ST - R   491348        823.0      341.0"
      ]
     },
     "execution_count": 16,
     "metadata": {},
     "output_type": "execute_result"
    }
   ],
   "source": [
    "df.head(5)"
   ]
  },
  {
   "cell_type": "code",
   "execution_count": 17,
   "metadata": {
    "collapsed": true
   },
   "outputs": [],
   "source": [
    "date_range = pd.date_range(start='2016-01-01', end='2016-12-31')\n",
    "\n",
    "cal = calendar()\n",
    "holidays = cal.holidays(start=date_range.min(), end=date_range.max())"
   ]
  },
  {
   "cell_type": "code",
   "execution_count": 18,
   "metadata": {
    "collapsed": false
   },
   "outputs": [],
   "source": [
    "df_7_11 = df[(df.DT.dt.hour >= 7) & (df.DT.dt.hour <= 11)] #.groupby('PLATFORM').count()\n",
    "df_7_11_wkdy = df_7_11[(df_7_11.DT.dt.weekday >= 0) & (df_7_11.DT.dt.weekday <= 4)]\n",
    "df_workdays = df_7_11_wkdy[df_7_11_wkdy.DT.dt.date.astype('datetime64').isin(holidays) != True]\n"
   ]
  },
  {
   "cell_type": "code",
   "execution_count": 19,
   "metadata": {
    "collapsed": true
   },
   "outputs": [],
   "source": [
    "df_workdays_count_by_day = df_workdays.set_index('DT').groupby([pd.TimeGrouper('D'), 'PLATFORM']\n",
    "                                   ).count().reset_index().sort_values(by=['PLATFORM','DT'])"
   ]
  },
  {
   "cell_type": "code",
   "execution_count": 20,
   "metadata": {
    "collapsed": true
   },
   "outputs": [],
   "source": [
    "df_workdays_count = df_workdays.set_index('DT').groupby('PLATFORM'\n",
    "                                   ).count().reset_index().sort_values(by='PLATFORM')"
   ]
  },
  {
   "cell_type": "code",
   "execution_count": 21,
   "metadata": {
    "collapsed": true
   },
   "outputs": [],
   "source": [
    "df_workdays_sum_by_day = df_workdays.set_index('DT').groupby([pd.TimeGrouper('D'), 'PLATFORM']\n",
    "                                   ).sum().reset_index().sort_values(by=['PLATFORM','DT'])"
   ]
  },
  {
   "cell_type": "code",
   "execution_count": 22,
   "metadata": {
    "collapsed": true
   },
   "outputs": [],
   "source": [
    "df_morn_rush = df_workdays_sum_by_day.groupby('PLATFORM').mean().reset_index().sort_values(by='PLATFORM').drop('index',axis=1)"
   ]
  },
  {
   "cell_type": "code",
   "execution_count": 23,
   "metadata": {
    "collapsed": false
   },
   "outputs": [],
   "source": [
    "df_morn_rush.rename(columns={'ENTRIES_ACT':'Entries','EXITS_ACT':'Exits'},inplace=True)"
   ]
  },
  {
   "cell_type": "code",
   "execution_count": 24,
   "metadata": {
    "collapsed": false
   },
   "outputs": [
    {
     "data": {
      "text/html": [
       "<div>\n",
       "<table border=\"1\" class=\"dataframe\">\n",
       "  <thead>\n",
       "    <tr style=\"text-align: right;\">\n",
       "      <th></th>\n",
       "      <th>PLATFORM</th>\n",
       "      <th>Entries</th>\n",
       "      <th>Exits</th>\n",
       "    </tr>\n",
       "  </thead>\n",
       "  <tbody>\n",
       "    <tr>\n",
       "      <th>110</th>\n",
       "      <td>42 ST-PORT AUTH - ACENGRS1237</td>\n",
       "      <td>1286.941748</td>\n",
       "      <td>2408.524272</td>\n",
       "    </tr>\n",
       "  </tbody>\n",
       "</table>\n",
       "</div>"
      ],
      "text/plain": [
       "                          PLATFORM      Entries        Exits\n",
       "110  42 ST-PORT AUTH - ACENGRS1237  1286.941748  2408.524272"
      ]
     },
     "execution_count": 24,
     "metadata": {},
     "output_type": "execute_result"
    }
   ],
   "source": [
    "df_morn_rush[df_morn_rush['PLATFORM'] == '42 ST-PORT AUTH - ACENGRS1237']"
   ]
  },
  {
   "cell_type": "code",
   "execution_count": 25,
   "metadata": {
    "collapsed": false
   },
   "outputs": [
    {
     "data": {
      "text/html": [
       "<div>\n",
       "<table border=\"1\" class=\"dataframe\">\n",
       "  <thead>\n",
       "    <tr style=\"text-align: right;\">\n",
       "      <th></th>\n",
       "      <th>PLATFORM</th>\n",
       "      <th>index</th>\n",
       "      <th>ENTRIES_ACT</th>\n",
       "      <th>EXITS_ACT</th>\n",
       "    </tr>\n",
       "  </thead>\n",
       "  <tbody>\n",
       "    <tr>\n",
       "      <th>0</th>\n",
       "      <td>1 AV - L</td>\n",
       "      <td>358</td>\n",
       "      <td>358</td>\n",
       "      <td>358</td>\n",
       "    </tr>\n",
       "    <tr>\n",
       "      <th>1</th>\n",
       "      <td>103 ST - 1</td>\n",
       "      <td>266</td>\n",
       "      <td>266</td>\n",
       "      <td>266</td>\n",
       "    </tr>\n",
       "    <tr>\n",
       "      <th>2</th>\n",
       "      <td>103 ST - 6</td>\n",
       "      <td>268</td>\n",
       "      <td>268</td>\n",
       "      <td>268</td>\n",
       "    </tr>\n",
       "    <tr>\n",
       "      <th>3</th>\n",
       "      <td>103 ST - BC</td>\n",
       "      <td>259</td>\n",
       "      <td>259</td>\n",
       "      <td>259</td>\n",
       "    </tr>\n",
       "  </tbody>\n",
       "</table>\n",
       "</div>"
      ],
      "text/plain": [
       "      PLATFORM  index  ENTRIES_ACT  EXITS_ACT\n",
       "0     1 AV - L    358          358        358\n",
       "1   103 ST - 1    266          266        266\n",
       "2   103 ST - 6    268          268        268\n",
       "3  103 ST - BC    259          259        259"
      ]
     },
     "execution_count": 25,
     "metadata": {},
     "output_type": "execute_result"
    }
   ],
   "source": [
    "df_workdays_count.head(4)"
   ]
  },
  {
   "cell_type": "code",
   "execution_count": 26,
   "metadata": {
    "collapsed": false
   },
   "outputs": [],
   "source": [
    "df_morn_rush.to_csv('data/mta_morn_rush.csv')"
   ]
  },
  {
   "cell_type": "code",
   "execution_count": null,
   "metadata": {
    "collapsed": true
   },
   "outputs": [],
   "source": []
  },
  {
   "cell_type": "code",
   "execution_count": null,
   "metadata": {
    "collapsed": true
   },
   "outputs": [],
   "source": []
  },
  {
   "cell_type": "code",
   "execution_count": null,
   "metadata": {
    "collapsed": true
   },
   "outputs": [],
   "source": []
  },
  {
   "cell_type": "code",
   "execution_count": null,
   "metadata": {
    "collapsed": true
   },
   "outputs": [],
   "source": [
    "### DIAGNOSTICS......"
   ]
  },
  {
   "cell_type": "code",
   "execution_count": 27,
   "metadata": {
    "collapsed": false
   },
   "outputs": [
    {
     "data": {
      "text/html": [
       "<div>\n",
       "<table border=\"1\" class=\"dataframe\">\n",
       "  <thead>\n",
       "    <tr style=\"text-align: right;\">\n",
       "      <th></th>\n",
       "      <th>PLATFORM</th>\n",
       "      <th>Entries</th>\n",
       "      <th>Exits</th>\n",
       "    </tr>\n",
       "  </thead>\n",
       "  <tbody>\n",
       "    <tr>\n",
       "      <th>96</th>\n",
       "      <td>34 ST-HERALD SQ - BDFMNQRW</td>\n",
       "      <td>12464.809524</td>\n",
       "      <td>16646.619048</td>\n",
       "    </tr>\n",
       "    <tr>\n",
       "      <th>323</th>\n",
       "      <td>FULTON ST - 2345ACJZ</td>\n",
       "      <td>5468.908367</td>\n",
       "      <td>13702.924303</td>\n",
       "    </tr>\n",
       "    <tr>\n",
       "      <th>333</th>\n",
       "      <td>GRD CNTRL-42 ST - 4567S</td>\n",
       "      <td>10444.430279</td>\n",
       "      <td>13153.071713</td>\n",
       "    </tr>\n",
       "    <tr>\n",
       "      <th>95</th>\n",
       "      <td>34 ST-HERALD SQ - BDFMNQR</td>\n",
       "      <td>9117.645933</td>\n",
       "      <td>12090.387560</td>\n",
       "    </tr>\n",
       "    <tr>\n",
       "      <th>136</th>\n",
       "      <td>59 ST - 456NQRW</td>\n",
       "      <td>4848.738095</td>\n",
       "      <td>11877.119048</td>\n",
       "    </tr>\n",
       "    <tr>\n",
       "      <th>475</th>\n",
       "      <td>TIMES SQ-42 ST - 1237ACENQRSW</td>\n",
       "      <td>6952.833333</td>\n",
       "      <td>10172.642857</td>\n",
       "    </tr>\n",
       "    <tr>\n",
       "      <th>100</th>\n",
       "      <td>34 ST-PENN STA - ACE</td>\n",
       "      <td>13903.000000</td>\n",
       "      <td>9492.593625</td>\n",
       "    </tr>\n",
       "    <tr>\n",
       "      <th>117</th>\n",
       "      <td>47-50 STS ROCK - BDFM</td>\n",
       "      <td>702.107570</td>\n",
       "      <td>9046.446215</td>\n",
       "    </tr>\n",
       "    <tr>\n",
       "      <th>376</th>\n",
       "      <td>LEXINGTON AV/53 - EM6</td>\n",
       "      <td>1880.051793</td>\n",
       "      <td>8743.043825</td>\n",
       "    </tr>\n",
       "    <tr>\n",
       "      <th>474</th>\n",
       "      <td>TIMES SQ-42 ST - 1237ACENQRS</td>\n",
       "      <td>5335.924303</td>\n",
       "      <td>8301.366534</td>\n",
       "    </tr>\n",
       "  </tbody>\n",
       "</table>\n",
       "</div>"
      ],
      "text/plain": [
       "                          PLATFORM       Entries         Exits\n",
       "96      34 ST-HERALD SQ - BDFMNQRW  12464.809524  16646.619048\n",
       "323           FULTON ST - 2345ACJZ   5468.908367  13702.924303\n",
       "333        GRD CNTRL-42 ST - 4567S  10444.430279  13153.071713\n",
       "95       34 ST-HERALD SQ - BDFMNQR   9117.645933  12090.387560\n",
       "136                59 ST - 456NQRW   4848.738095  11877.119048\n",
       "475  TIMES SQ-42 ST - 1237ACENQRSW   6952.833333  10172.642857\n",
       "100           34 ST-PENN STA - ACE  13903.000000   9492.593625\n",
       "117          47-50 STS ROCK - BDFM    702.107570   9046.446215\n",
       "376          LEXINGTON AV/53 - EM6   1880.051793   8743.043825\n",
       "474   TIMES SQ-42 ST - 1237ACENQRS   5335.924303   8301.366534"
      ]
     },
     "execution_count": 27,
     "metadata": {},
     "output_type": "execute_result"
    }
   ],
   "source": [
    "df_morn_rush.sort_values(by='Exits',ascending=False).head(10)"
   ]
  },
  {
   "cell_type": "code",
   "execution_count": null,
   "metadata": {
    "collapsed": false,
    "scrolled": true
   },
   "outputs": [],
   "source": [
    "#mta_2016[mta_2016['PLATFORM'] == stn].groupby(['PLATFORM','C/A','UNIT','SCP','DT']).max()"
   ]
  },
  {
   "cell_type": "code",
   "execution_count": null,
   "metadata": {
    "collapsed": false
   },
   "outputs": [],
   "source": [
    "#mta_2016.groupby(['STATION','LINENAME','C/A','UNIT','SCP']).max()"
   ]
  },
  {
   "cell_type": "code",
   "execution_count": null,
   "metadata": {
    "collapsed": false
   },
   "outputs": [],
   "source": [
    "#mta_2016.groupby(['C/A','UNIT'])[['C/A','UNIT']].max()"
   ]
  },
  {
   "cell_type": "code",
   "execution_count": null,
   "metadata": {
    "collapsed": false
   },
   "outputs": [],
   "source": [
    "#mta_2016.groupby('C/A').count()"
   ]
  },
  {
   "cell_type": "code",
   "execution_count": null,
   "metadata": {
    "collapsed": false
   },
   "outputs": [],
   "source": [
    "#mta_2016.groupby('UNIT').count()"
   ]
  },
  {
   "cell_type": "code",
   "execution_count": null,
   "metadata": {
    "collapsed": false
   },
   "outputs": [],
   "source": [
    "#mta_2016.groupby(['PLATFORM']).count().sort_values(by='EXITS',ascending=False)"
   ]
  },
  {
   "cell_type": "code",
   "execution_count": null,
   "metadata": {
    "collapsed": false,
    "scrolled": false
   },
   "outputs": [],
   "source": [
    "#mta_2016.sort_values(by=['DT']).head(5)\n",
    "#mta_2016[(mta_2016['DT'].dt.month == 1) & (mta_2016['DT'].dt.day == 1) & (mta_2016['DT'].dt.hour == 0)].sort_values(by=['PLATFORM','DT'])"
   ]
  },
  {
   "cell_type": "code",
   "execution_count": null,
   "metadata": {
    "collapsed": false
   },
   "outputs": [],
   "source": [
    "#mta_2016[(mta_2016['DT'].dt.month == 1) & (mta_2016['DT'].dt.day == 1) & (mta_2016['DT'].dt.hour == 0)].sort_values(by=['PLATFORM','DT']).groupby('PLATFORM').agg(['min', 'max'])"
   ]
  },
  {
   "cell_type": "code",
   "execution_count": null,
   "metadata": {
    "collapsed": false
   },
   "outputs": [],
   "source": [
    "#mta_2016.groupby('DT').iloc[0:7,:]\n",
    "\n",
    "#.DT.dt.date(2016,1,1)"
   ]
  },
  {
   "cell_type": "code",
   "execution_count": null,
   "metadata": {
    "collapsed": false
   },
   "outputs": [],
   "source": [
    "#mta_2016.groupby('PLATFORM')['ENTRIES'].max()\n",
    "#mta_group = mta_2016[\n",
    "#    ['STATION','PLATFORM','ENTRIES','EXITS','DT']][(mta_2016['DT'].dt.year == 2016) & (mta_2016['DT'].dt.dayofyear > 1)\n",
    "#                                               ].sort_values(\n",
    "#    by=['PLATFORM','DT']).groupby('PLATFORM')['STATION','ENTRIES','EXITS','DT'].agg(['min', 'max'])\n",
    "\n"
   ]
  },
  {
   "cell_type": "code",
   "execution_count": null,
   "metadata": {
    "collapsed": false
   },
   "outputs": [],
   "source": [
    "#mta_group_tot_doy = pd.DataFrame(mta_group['DT']['max'] - mta_group['DT']['min'])"
   ]
  },
  {
   "cell_type": "code",
   "execution_count": null,
   "metadata": {
    "collapsed": false
   },
   "outputs": [],
   "source": []
  },
  {
   "cell_type": "code",
   "execution_count": null,
   "metadata": {
    "collapsed": true
   },
   "outputs": [],
   "source": []
  }
 ],
 "metadata": {
  "kernelspec": {
   "display_name": "Python 2",
   "language": "python",
   "name": "python2"
  },
  "language_info": {
   "codemirror_mode": {
    "name": "ipython",
    "version": 2
   },
   "file_extension": ".py",
   "mimetype": "text/x-python",
   "name": "python",
   "nbconvert_exporter": "python",
   "pygments_lexer": "ipython2",
   "version": "2.7.13"
  }
 },
 "nbformat": 4,
 "nbformat_minor": 1
}
