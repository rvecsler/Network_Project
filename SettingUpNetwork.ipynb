{
 "cells": [
  {
   "cell_type": "code",
   "execution_count": 1,
   "metadata": {
    "collapsed": false
   },
   "outputs": [
    {
     "name": "stdout",
     "output_type": "stream",
     "text": [
      "Populating the interactive namespace from numpy and matplotlib\n"
     ]
    }
   ],
   "source": [
    "import networkx as nx\n",
    "from networkx.readwrite import json_graph\n",
    "import community as community\n",
    "\n",
    "import pandas as pd\n",
    "import numpy as np\n",
    "\n",
    "import itertools\n",
    "import math\n",
    "import csv\n",
    "import json\n",
    "from operator import itemgetter\n",
    "\n",
    "import matplotlib.pyplot as plt\n",
    "import mplleaflet\n",
    "from pylab import show\n",
    "%pylab inline"
   ]
  },
  {
   "cell_type": "markdown",
   "metadata": {},
   "source": [
    "<h1> Get the node and edge (link) data and load into the network"
   ]
  },
  {
   "cell_type": "code",
   "execution_count": 2,
   "metadata": {
    "collapsed": false
   },
   "outputs": [],
   "source": [
    "#Get the station data \n",
    "ndata = pd.read_csv(\"data/nyc_subway_stations_with_lines.csv\")"
   ]
  },
  {
   "cell_type": "code",
   "execution_count": 3,
   "metadata": {
    "collapsed": false
   },
   "outputs": [
    {
     "data": {
      "text/html": [
       "<div>\n",
       "<table border=\"1\" class=\"dataframe\">\n",
       "  <thead>\n",
       "    <tr style=\"text-align: right;\">\n",
       "      <th></th>\n",
       "      <th>Unnamed: 0</th>\n",
       "      <th>stop_id</th>\n",
       "      <th>stop_name</th>\n",
       "      <th>stop_lat</th>\n",
       "      <th>stop_lon</th>\n",
       "      <th>Borough</th>\n",
       "      <th>Daytime Routes</th>\n",
       "    </tr>\n",
       "  </thead>\n",
       "  <tbody>\n",
       "    <tr>\n",
       "      <th>0</th>\n",
       "      <td>0</td>\n",
       "      <td>101</td>\n",
       "      <td>Van Cortlandt Park - 242 St</td>\n",
       "      <td>40.889248</td>\n",
       "      <td>-73.898583</td>\n",
       "      <td>Bx</td>\n",
       "      <td>1</td>\n",
       "    </tr>\n",
       "    <tr>\n",
       "      <th>1</th>\n",
       "      <td>1</td>\n",
       "      <td>103</td>\n",
       "      <td>238 St</td>\n",
       "      <td>40.884667</td>\n",
       "      <td>-73.900870</td>\n",
       "      <td>Bx</td>\n",
       "      <td>1</td>\n",
       "    </tr>\n",
       "    <tr>\n",
       "      <th>2</th>\n",
       "      <td>2</td>\n",
       "      <td>104</td>\n",
       "      <td>231 St</td>\n",
       "      <td>40.878856</td>\n",
       "      <td>-73.904834</td>\n",
       "      <td>Bx</td>\n",
       "      <td>1</td>\n",
       "    </tr>\n",
       "  </tbody>\n",
       "</table>\n",
       "</div>"
      ],
      "text/plain": [
       "   Unnamed: 0 stop_id                    stop_name   stop_lat   stop_lon  \\\n",
       "0           0     101  Van Cortlandt Park - 242 St  40.889248 -73.898583   \n",
       "1           1     103                       238 St  40.884667 -73.900870   \n",
       "2           2     104                       231 St  40.878856 -73.904834   \n",
       "\n",
       "  Borough Daytime Routes  \n",
       "0      Bx              1  \n",
       "1      Bx              1  \n",
       "2      Bx              1  "
      ]
     },
     "execution_count": 3,
     "metadata": {},
     "output_type": "execute_result"
    }
   ],
   "source": [
    "ndata.head(3)"
   ]
  },
  {
   "cell_type": "code",
   "execution_count": 4,
   "metadata": {
    "collapsed": false
   },
   "outputs": [],
   "source": [
    "#initialize the graph\n",
    "#G.clear()\n",
    "G = nx.MultiDiGraph(name='NYC Subway Network')"
   ]
  },
  {
   "cell_type": "code",
   "execution_count": 5,
   "metadata": {
    "collapsed": false
   },
   "outputs": [],
   "source": [
    "#add nodes and attributes\n",
    "for i in range(0,len(ndata)):\n",
    "    G.add_node(ndata.stop_id[i], name = ndata.stop_name[i], line = ndata['Daytime Routes'][i], boro = ndata.Borough[i], lat = ndata.stop_lat[i], lng = ndata.stop_lon[i])"
   ]
  },
  {
   "cell_type": "code",
   "execution_count": 6,
   "metadata": {
    "collapsed": false
   },
   "outputs": [],
   "source": [
    "#show the nodes in G\n",
    "#G.nodes(data=True)"
   ]
  },
  {
   "cell_type": "code",
   "execution_count": 7,
   "metadata": {
    "collapsed": false
   },
   "outputs": [],
   "source": [
    "#get the edge data and attributes\n",
    "edata = pd.read_csv(\"data/subway_duration_between_stops_weekday(common_route).csv\")"
   ]
  },
  {
   "cell_type": "code",
   "execution_count": 8,
   "metadata": {
    "collapsed": false
   },
   "outputs": [
    {
     "data": {
      "text/html": [
       "<div>\n",
       "<table border=\"1\" class=\"dataframe\">\n",
       "  <thead>\n",
       "    <tr style=\"text-align: right;\">\n",
       "      <th></th>\n",
       "      <th>Unnamed: 0</th>\n",
       "      <th>bound</th>\n",
       "      <th>duration</th>\n",
       "      <th>from_stop</th>\n",
       "      <th>from_stop_id</th>\n",
       "      <th>from_stop_sequence</th>\n",
       "      <th>route_id</th>\n",
       "      <th>service_id</th>\n",
       "      <th>to_stop</th>\n",
       "      <th>to_stop_id</th>\n",
       "      <th>to_stop_sequence</th>\n",
       "      <th>train</th>\n",
       "    </tr>\n",
       "  </thead>\n",
       "  <tbody>\n",
       "    <tr>\n",
       "      <th>0</th>\n",
       "      <td>0</td>\n",
       "      <td>N</td>\n",
       "      <td>180</td>\n",
       "      <td>Prospect Park</td>\n",
       "      <td>D26N</td>\n",
       "      <td>1</td>\n",
       "      <td>A..N55R</td>\n",
       "      <td>B20170625WKD</td>\n",
       "      <td>Botanic Garden</td>\n",
       "      <td>S04N</td>\n",
       "      <td>2</td>\n",
       "      <td>FS</td>\n",
       "    </tr>\n",
       "    <tr>\n",
       "      <th>1</th>\n",
       "      <td>1</td>\n",
       "      <td>N</td>\n",
       "      <td>120</td>\n",
       "      <td>Botanic Garden</td>\n",
       "      <td>S04N</td>\n",
       "      <td>2</td>\n",
       "      <td>A..N55R</td>\n",
       "      <td>B20170625WKD</td>\n",
       "      <td>Park Pl</td>\n",
       "      <td>S03N</td>\n",
       "      <td>3</td>\n",
       "      <td>FS</td>\n",
       "    </tr>\n",
       "  </tbody>\n",
       "</table>\n",
       "</div>"
      ],
      "text/plain": [
       "   Unnamed: 0 bound  duration       from_stop from_stop_id  \\\n",
       "0           0     N       180   Prospect Park         D26N   \n",
       "1           1     N       120  Botanic Garden         S04N   \n",
       "\n",
       "   from_stop_sequence route_id    service_id         to_stop to_stop_id  \\\n",
       "0                   1  A..N55R  B20170625WKD  Botanic Garden       S04N   \n",
       "1                   2  A..N55R  B20170625WKD         Park Pl       S03N   \n",
       "\n",
       "   to_stop_sequence train  \n",
       "0                 2    FS  \n",
       "1                 3    FS  "
      ]
     },
     "execution_count": 8,
     "metadata": {},
     "output_type": "execute_result"
    }
   ],
   "source": [
    "edata.head(2)"
   ]
  },
  {
   "cell_type": "code",
   "execution_count": 9,
   "metadata": {
    "collapsed": false
   },
   "outputs": [],
   "source": [
    "#add node id to edge data\n",
    "edata['source_node']= edata['from_stop_id'].str[:3]\n",
    "edata['target_node']= edata['to_stop_id'].str[:3]"
   ]
  },
  {
   "cell_type": "code",
   "execution_count": 10,
   "metadata": {
    "collapsed": false
   },
   "outputs": [
    {
     "data": {
      "text/html": [
       "<div>\n",
       "<table border=\"1\" class=\"dataframe\">\n",
       "  <thead>\n",
       "    <tr style=\"text-align: right;\">\n",
       "      <th></th>\n",
       "      <th>Unnamed: 0</th>\n",
       "      <th>bound</th>\n",
       "      <th>duration</th>\n",
       "      <th>from_stop</th>\n",
       "      <th>from_stop_id</th>\n",
       "      <th>from_stop_sequence</th>\n",
       "      <th>route_id</th>\n",
       "      <th>service_id</th>\n",
       "      <th>to_stop</th>\n",
       "      <th>to_stop_id</th>\n",
       "      <th>to_stop_sequence</th>\n",
       "      <th>train</th>\n",
       "      <th>source_node</th>\n",
       "      <th>target_node</th>\n",
       "    </tr>\n",
       "  </thead>\n",
       "  <tbody>\n",
       "    <tr>\n",
       "      <th>0</th>\n",
       "      <td>0</td>\n",
       "      <td>N</td>\n",
       "      <td>180</td>\n",
       "      <td>Prospect Park</td>\n",
       "      <td>D26N</td>\n",
       "      <td>1</td>\n",
       "      <td>A..N55R</td>\n",
       "      <td>B20170625WKD</td>\n",
       "      <td>Botanic Garden</td>\n",
       "      <td>S04N</td>\n",
       "      <td>2</td>\n",
       "      <td>FS</td>\n",
       "      <td>D26</td>\n",
       "      <td>S04</td>\n",
       "    </tr>\n",
       "    <tr>\n",
       "      <th>1</th>\n",
       "      <td>1</td>\n",
       "      <td>N</td>\n",
       "      <td>120</td>\n",
       "      <td>Botanic Garden</td>\n",
       "      <td>S04N</td>\n",
       "      <td>2</td>\n",
       "      <td>A..N55R</td>\n",
       "      <td>B20170625WKD</td>\n",
       "      <td>Park Pl</td>\n",
       "      <td>S03N</td>\n",
       "      <td>3</td>\n",
       "      <td>FS</td>\n",
       "      <td>S04</td>\n",
       "      <td>S03</td>\n",
       "    </tr>\n",
       "  </tbody>\n",
       "</table>\n",
       "</div>"
      ],
      "text/plain": [
       "   Unnamed: 0 bound  duration       from_stop from_stop_id  \\\n",
       "0           0     N       180   Prospect Park         D26N   \n",
       "1           1     N       120  Botanic Garden         S04N   \n",
       "\n",
       "   from_stop_sequence route_id    service_id         to_stop to_stop_id  \\\n",
       "0                   1  A..N55R  B20170625WKD  Botanic Garden       S04N   \n",
       "1                   2  A..N55R  B20170625WKD         Park Pl       S03N   \n",
       "\n",
       "   to_stop_sequence train source_node target_node  \n",
       "0                 2    FS         D26         S04  \n",
       "1                 3    FS         S04         S03  "
      ]
     },
     "execution_count": 10,
     "metadata": {},
     "output_type": "execute_result"
    }
   ],
   "source": [
    "edata.head(2)"
   ]
  },
  {
   "cell_type": "code",
   "execution_count": 11,
   "metadata": {
    "collapsed": false
   },
   "outputs": [],
   "source": [
    "#ADD THE EDGES TO THE NETWORK\n",
    "for i in range(0,len(edata)):\n",
    "    G.add_edge(edata.source_node[i],edata.target_node[i], \n",
    "               weight = edata.duration[i],\n",
    "               duration = edata.duration[i],\n",
    "               bound = edata.bound[i],\n",
    "               demand = 1,\n",
    "               platform = edata.train[i])"
   ]
  },
  {
   "cell_type": "code",
   "execution_count": 12,
   "metadata": {
    "collapsed": false
   },
   "outputs": [
    {
     "data": {
      "text/html": [
       "<div>\n",
       "<table border=\"1\" class=\"dataframe\">\n",
       "  <thead>\n",
       "    <tr style=\"text-align: right;\">\n",
       "      <th></th>\n",
       "      <th>Unnamed: 0</th>\n",
       "      <th>from_stop_id</th>\n",
       "      <th>to_stop_id</th>\n",
       "      <th>transfer_type</th>\n",
       "      <th>min_transfer_time</th>\n",
       "      <th>from_stop</th>\n",
       "      <th>to_stop</th>\n",
       "      <th>from_line</th>\n",
       "      <th>to_line</th>\n",
       "      <th>source_node</th>\n",
       "      <th>target_node</th>\n",
       "    </tr>\n",
       "  </thead>\n",
       "  <tbody>\n",
       "    <tr>\n",
       "      <th>0</th>\n",
       "      <td>0</td>\n",
       "      <td>112</td>\n",
       "      <td>A09</td>\n",
       "      <td>2</td>\n",
       "      <td>180</td>\n",
       "      <td>168 St - Washington Hts</td>\n",
       "      <td>168 St</td>\n",
       "      <td>1</td>\n",
       "      <td>A</td>\n",
       "      <td>112</td>\n",
       "      <td>A09</td>\n",
       "    </tr>\n",
       "    <tr>\n",
       "      <th>1</th>\n",
       "      <td>1</td>\n",
       "      <td>112</td>\n",
       "      <td>A09</td>\n",
       "      <td>2</td>\n",
       "      <td>180</td>\n",
       "      <td>168 St - Washington Hts</td>\n",
       "      <td>168 St</td>\n",
       "      <td>1</td>\n",
       "      <td>C</td>\n",
       "      <td>112</td>\n",
       "      <td>A09</td>\n",
       "    </tr>\n",
       "    <tr>\n",
       "      <th>2</th>\n",
       "      <td>2</td>\n",
       "      <td>120</td>\n",
       "      <td>120</td>\n",
       "      <td>2</td>\n",
       "      <td>180</td>\n",
       "      <td>96 St</td>\n",
       "      <td>96 St</td>\n",
       "      <td>1</td>\n",
       "      <td>2</td>\n",
       "      <td>120</td>\n",
       "      <td>120</td>\n",
       "    </tr>\n",
       "  </tbody>\n",
       "</table>\n",
       "</div>"
      ],
      "text/plain": [
       "   Unnamed: 0 from_stop_id to_stop_id  transfer_type  min_transfer_time  \\\n",
       "0           0          112        A09              2                180   \n",
       "1           1          112        A09              2                180   \n",
       "2           2          120        120              2                180   \n",
       "\n",
       "                 from_stop to_stop from_line to_line source_node target_node  \n",
       "0  168 St - Washington Hts  168 St         1       A         112         A09  \n",
       "1  168 St - Washington Hts  168 St         1       C         112         A09  \n",
       "2                    96 St   96 St         1       2         120         120  "
      ]
     },
     "execution_count": 12,
     "metadata": {},
     "output_type": "execute_result"
    }
   ],
   "source": [
    "#ADD TRANSFER WITHOUT SWIPE EDGES\n",
    "tdata = pd.read_csv(\"data/transfer_without_swipe.csv\")\n",
    "tdata['source_node']= tdata['from_stop_id']\n",
    "tdata['target_node']= tdata['to_stop_id']\n",
    "tdata.head(3)"
   ]
  },
  {
   "cell_type": "code",
   "execution_count": 13,
   "metadata": {
    "collapsed": false
   },
   "outputs": [],
   "source": [
    "for i in range(0,len(tdata)):\n",
    "    G.add_edge(tdata.source_node[i],tdata.target_node[i],\n",
    "               weight = tdata.min_transfer_time[i],\n",
    "               duration = tdata.min_transfer_time[i],\n",
    "               bound = 'T',\n",
    "               demand = 1,\n",
    "               platform = tdata.from_line[i]+\" \"+ tdata.to_line[i])"
   ]
  },
  {
   "cell_type": "markdown",
   "metadata": {},
   "source": [
    "<h1> Take a look at the network, summarize characteristics"
   ]
  },
  {
   "cell_type": "code",
   "execution_count": null,
   "metadata": {
    "collapsed": false
   },
   "outputs": [],
   "source": [
    "#print network info\n",
    "print nx.info(G)"
   ]
  },
  {
   "cell_type": "code",
   "execution_count": 14,
   "metadata": {
    "collapsed": false
   },
   "outputs": [
    {
     "data": {
      "text/plain": [
       "0.010294699926466429"
      ]
     },
     "execution_count": 14,
     "metadata": {},
     "output_type": "execute_result"
    }
   ],
   "source": [
    "#graph density for directed graphs isd = \\frac{m}{n(n-1)}, where n is the number of nodes and m is the number of edges\n",
    "#The density is 0 for a graph without edges and 1 for a complete graph. The density of multigraphs can be higher than 1.\n",
    "#Self loops are counted in the total number of edges so graphs with self loops can have density higher than 1.\n",
    "nx.density(G)"
   ]
  },
  {
   "cell_type": "code",
   "execution_count": null,
   "metadata": {
    "collapsed": false
   },
   "outputs": [],
   "source": [
    "#plot network\n",
    "plt.axis(\"off\")\n",
    "spring_pos = nx.spring_layout(G)\n",
    "circular =nx.circular_layout(G)\n",
    "random = nx.random_layout(G)\n",
    "nx.draw_networkx(G, pos = spring_pos, with_labels = False, alpha=0.3,node_size = 35)"
   ]
  },
  {
   "cell_type": "code",
   "execution_count": null,
   "metadata": {
    "collapsed": false
   },
   "outputs": [],
   "source": [
    "#Method 1 - betweenness_centrality\n",
    "#compute the betweeness centrality to determine who is the most \"important\" individual in the network.\n",
    "#using betweenness centrality is a measure of how many shortest paths pass through a particular vertex.\n",
    "#Method from http://glowingpython.blogspot.com/2013/02/betweenness-centrality.html\n",
    "#we need to convert our network to an undirected one first\n",
    "G_u = G.to_undirected()\n",
    "\n",
    "def most_important(G):\n",
    "\n",
    "  ranking = nx.betweenness_centrality(G).items()\n",
    "  \n",
    "  r = [x[1] for x in ranking]\n",
    "  m = sum(r)/len(r) # mean centrality\n",
    "  t = m*3 # threshold, we keep only the nodes with 3 times the mean\n",
    "  Gt = G.copy()\n",
    "  for k, v in ranking:\n",
    "    if v < t:\n",
    "      Gt.remove_node(k)\n",
    "  return Gt\n",
    "\n"
   ]
  },
  {
   "cell_type": "code",
   "execution_count": null,
   "metadata": {
    "collapsed": true
   },
   "outputs": [],
   "source": [
    "dominant = most_important(G_u)"
   ]
  },
  {
   "cell_type": "code",
   "execution_count": null,
   "metadata": {
    "collapsed": false
   },
   "outputs": [],
   "source": [
    "#print dominant nodes and its neighbors\n",
    "#for i in range(1,len(dominant.nodes())):\n",
    "    #print (dominant.neighbors(dominant.nodes()[i]));\n",
    "    \n",
    "#print dominant nodes and node attributes\n",
    "dominant.nodes(data=True)"
   ]
  },
  {
   "cell_type": "code",
   "execution_count": null,
   "metadata": {
    "collapsed": false
   },
   "outputs": [],
   "source": [
    "#Plot betweeness centrality dominant nodes\n",
    "plt.axis(\"off\")\n",
    "\n",
    "# draw the nodes and the edges (all)\n",
    "nx.draw_networkx_nodes(G,spring_pos,node_color='b',alpha=0.2,node_size=10)\n",
    "nx.draw_networkx_edges(G,spring_pos,alpha=0.1)\n",
    "\n",
    "# draw the most important nodes with a different style\n",
    "nx.draw_networkx_nodes(dominant,spring_pos,node_color='r',alpha=0.4,node_size=100)\n",
    "# also the labels this time\n",
    "#nx.draw_networkx_labels(dominant,spring_pos,font_size=10,font_color='b')\n",
    "show()"
   ]
  },
  {
   "cell_type": "code",
   "execution_count": null,
   "metadata": {
    "collapsed": false
   },
   "outputs": [],
   "source": [
    "#determine most important node by spectral theory power method\n",
    "def most_important(G):\n",
    "\n",
    "  ranking = nx.eigenvector_centrality_numpy(G).items()\n",
    "  \n",
    "  r = [x[1] for x in ranking]\n",
    "  m = sum(r)/len(r) # mean centrality\n",
    "  t = m*3 # threshold, we keep only the nodes with 3 times the mean\n",
    "  Gt = G.copy()\n",
    "  for k, v in ranking:\n",
    "    if v < t:\n",
    "      Gt.remove_node(k)\n",
    "  return Gt\n",
    "\n",
    "dominante3 = most_important(G_u)"
   ]
  },
  {
   "cell_type": "code",
   "execution_count": null,
   "metadata": {
    "collapsed": false
   },
   "outputs": [],
   "source": [
    "#print spectral dominant nodes and its neighbors\n",
    "#for i in range(1,len(dominante3.nodes())):\n",
    "    #print (dominante3.neighbors(dominante3.nodes()[i]));\n",
    "\n",
    "#print dominant nodes and node attributes\n",
    "dominante3.nodes(data=True)"
   ]
  },
  {
   "cell_type": "code",
   "execution_count": null,
   "metadata": {
    "collapsed": false
   },
   "outputs": [],
   "source": [
    "#Plot spectral dominant nodes\n",
    "plt.axis(\"off\")\n",
    "\n",
    "# draw the nodes and the edges (all)\n",
    "nx.draw_networkx_nodes(G,spring_pos,node_color='b',alpha=0.2,node_size=10)\n",
    "nx.draw_networkx_edges(G,spring_pos,alpha=0.1)\n",
    "\n",
    "# draw the most important nodes with a different style\n",
    "nx.draw_networkx_nodes(dominante3,spring_pos,node_color='r',alpha=0.4,node_size=100)\n",
    "# also the labels this time\n",
    "#nx.draw_networkx_labels(dominante3,spring_pos,font_size=10,font_color='b')\n",
    "show()"
   ]
  },
  {
   "cell_type": "code",
   "execution_count": null,
   "metadata": {
    "collapsed": false
   },
   "outputs": [],
   "source": [
    "#plotting on a map\n",
    "ndatamap = ndata[['stop_id','stop_lon','stop_lat']]\n",
    "pos=ndatamap.set_index('stop_id').T.to_dict('list')\n",
    "\n",
    "fig, ax = plt.subplots(figsize=(15,15))\n",
    "\n",
    "nx.draw_networkx_nodes(G,pos=pos,node_size=10,node_color='red',edge_color='k',alpha=.5, with_labels=True)\n",
    "nx.draw_networkx_edges(G,pos=pos,edge_color='gray', alpha=.1)\n",
    "nx.draw_networkx_labels(G,pos, label_pos =10.3)\n",
    "\n",
    "\n",
    "mplleaflet.display(fig=ax.figure)\n"
   ]
  },
  {
   "cell_type": "markdown",
   "metadata": {},
   "source": [
    "<h1>FIND SHORTEST PATHS AND CALCULATE NETWORK METRIC"
   ]
  },
  {
   "cell_type": "code",
   "execution_count": 15,
   "metadata": {
    "collapsed": false
   },
   "outputs": [
    {
     "data": {
      "text/html": [
       "<div>\n",
       "<table border=\"1\" class=\"dataframe\">\n",
       "  <thead>\n",
       "    <tr style=\"text-align: right;\">\n",
       "      <th></th>\n",
       "      <th>101</th>\n",
       "      <th>103</th>\n",
       "      <th>104</th>\n",
       "      <th>106</th>\n",
       "      <th>107</th>\n",
       "      <th>108</th>\n",
       "      <th>109</th>\n",
       "      <th>110</th>\n",
       "      <th>111</th>\n",
       "      <th>112</th>\n",
       "      <th>...</th>\n",
       "      <th>S22</th>\n",
       "      <th>S23</th>\n",
       "      <th>S24</th>\n",
       "      <th>S25</th>\n",
       "      <th>S26</th>\n",
       "      <th>S27</th>\n",
       "      <th>S28</th>\n",
       "      <th>S29</th>\n",
       "      <th>S30</th>\n",
       "      <th>S31</th>\n",
       "    </tr>\n",
       "  </thead>\n",
       "  <tbody>\n",
       "    <tr>\n",
       "      <th>101</th>\n",
       "      <td>[101]</td>\n",
       "      <td>[103, 101]</td>\n",
       "      <td>[104, 103, 101]</td>\n",
       "      <td>[106, 104, 103, 101]</td>\n",
       "      <td>[107, 106, 104, 103, 101]</td>\n",
       "      <td>[108, 107, 106, 104, 103, 101]</td>\n",
       "      <td>[109, 108, 107, 106, 104, 103, 101]</td>\n",
       "      <td>[110, 109, 108, 107, 106, 104, 103, 101]</td>\n",
       "      <td>[111, 110, 109, 108, 107, 106, 104, 103, 101]</td>\n",
       "      <td>[112, 111, 110, 109, 108, 107, 106, 104, 103, ...</td>\n",
       "      <td>...</td>\n",
       "      <td>NaN</td>\n",
       "      <td>NaN</td>\n",
       "      <td>NaN</td>\n",
       "      <td>NaN</td>\n",
       "      <td>NaN</td>\n",
       "      <td>NaN</td>\n",
       "      <td>NaN</td>\n",
       "      <td>NaN</td>\n",
       "      <td>NaN</td>\n",
       "      <td>NaN</td>\n",
       "    </tr>\n",
       "    <tr>\n",
       "      <th>103</th>\n",
       "      <td>[101, 103]</td>\n",
       "      <td>[103]</td>\n",
       "      <td>[104, 103]</td>\n",
       "      <td>[106, 104, 103]</td>\n",
       "      <td>[107, 106, 104, 103]</td>\n",
       "      <td>[108, 107, 106, 104, 103]</td>\n",
       "      <td>[109, 108, 107, 106, 104, 103]</td>\n",
       "      <td>[110, 109, 108, 107, 106, 104, 103]</td>\n",
       "      <td>[111, 110, 109, 108, 107, 106, 104, 103]</td>\n",
       "      <td>[112, 111, 110, 109, 108, 107, 106, 104, 103]</td>\n",
       "      <td>...</td>\n",
       "      <td>NaN</td>\n",
       "      <td>NaN</td>\n",
       "      <td>NaN</td>\n",
       "      <td>NaN</td>\n",
       "      <td>NaN</td>\n",
       "      <td>NaN</td>\n",
       "      <td>NaN</td>\n",
       "      <td>NaN</td>\n",
       "      <td>NaN</td>\n",
       "      <td>NaN</td>\n",
       "    </tr>\n",
       "  </tbody>\n",
       "</table>\n",
       "<p>2 rows × 498 columns</p>\n",
       "</div>"
      ],
      "text/plain": [
       "            101         103              104                   106  \\\n",
       "101       [101]  [103, 101]  [104, 103, 101]  [106, 104, 103, 101]   \n",
       "103  [101, 103]       [103]       [104, 103]       [106, 104, 103]   \n",
       "\n",
       "                           107                             108  \\\n",
       "101  [107, 106, 104, 103, 101]  [108, 107, 106, 104, 103, 101]   \n",
       "103       [107, 106, 104, 103]       [108, 107, 106, 104, 103]   \n",
       "\n",
       "                                     109  \\\n",
       "101  [109, 108, 107, 106, 104, 103, 101]   \n",
       "103       [109, 108, 107, 106, 104, 103]   \n",
       "\n",
       "                                          110  \\\n",
       "101  [110, 109, 108, 107, 106, 104, 103, 101]   \n",
       "103       [110, 109, 108, 107, 106, 104, 103]   \n",
       "\n",
       "                                               111  \\\n",
       "101  [111, 110, 109, 108, 107, 106, 104, 103, 101]   \n",
       "103       [111, 110, 109, 108, 107, 106, 104, 103]   \n",
       "\n",
       "                                                   112 ...   S22  S23  S24  \\\n",
       "101  [112, 111, 110, 109, 108, 107, 106, 104, 103, ... ...   NaN  NaN  NaN   \n",
       "103      [112, 111, 110, 109, 108, 107, 106, 104, 103] ...   NaN  NaN  NaN   \n",
       "\n",
       "     S25  S26  S27  S28  S29  S30  S31  \n",
       "101  NaN  NaN  NaN  NaN  NaN  NaN  NaN  \n",
       "103  NaN  NaN  NaN  NaN  NaN  NaN  NaN  \n",
       "\n",
       "[2 rows x 498 columns]"
      ]
     },
     "execution_count": 15,
     "metadata": {},
     "output_type": "execute_result"
    }
   ],
   "source": [
    "#Dijkstra’s algorithm to find the shortest path in a weighted network\n",
    "short_paths = nx.all_pairs_dijkstra_path(G, weight = 'weight')\n",
    "sp = pd.DataFrame(short_paths)\n",
    "sp.to_csv('data/shortest_paths')\n",
    "sp.head(2)"
   ]
  },
  {
   "cell_type": "code",
   "execution_count": 16,
   "metadata": {
    "collapsed": false
   },
   "outputs": [
    {
     "data": {
      "text/html": [
       "<div>\n",
       "<table border=\"1\" class=\"dataframe\">\n",
       "  <thead>\n",
       "    <tr style=\"text-align: right;\">\n",
       "      <th></th>\n",
       "      <th>101</th>\n",
       "      <th>103</th>\n",
       "      <th>104</th>\n",
       "      <th>106</th>\n",
       "      <th>107</th>\n",
       "      <th>108</th>\n",
       "      <th>109</th>\n",
       "      <th>110</th>\n",
       "      <th>111</th>\n",
       "      <th>112</th>\n",
       "      <th>...</th>\n",
       "      <th>S22</th>\n",
       "      <th>S23</th>\n",
       "      <th>S24</th>\n",
       "      <th>S25</th>\n",
       "      <th>S26</th>\n",
       "      <th>S27</th>\n",
       "      <th>S28</th>\n",
       "      <th>S29</th>\n",
       "      <th>S30</th>\n",
       "      <th>S31</th>\n",
       "    </tr>\n",
       "  </thead>\n",
       "  <tbody>\n",
       "    <tr>\n",
       "      <th>101</th>\n",
       "      <td>0.0</td>\n",
       "      <td>90.0</td>\n",
       "      <td>180.0</td>\n",
       "      <td>270.0</td>\n",
       "      <td>360.0</td>\n",
       "      <td>450.0</td>\n",
       "      <td>540.0</td>\n",
       "      <td>600.0</td>\n",
       "      <td>690.0</td>\n",
       "      <td>810.0</td>\n",
       "      <td>...</td>\n",
       "      <td>NaN</td>\n",
       "      <td>NaN</td>\n",
       "      <td>NaN</td>\n",
       "      <td>NaN</td>\n",
       "      <td>NaN</td>\n",
       "      <td>NaN</td>\n",
       "      <td>NaN</td>\n",
       "      <td>NaN</td>\n",
       "      <td>NaN</td>\n",
       "      <td>NaN</td>\n",
       "    </tr>\n",
       "    <tr>\n",
       "      <th>103</th>\n",
       "      <td>90.0</td>\n",
       "      <td>0.0</td>\n",
       "      <td>90.0</td>\n",
       "      <td>180.0</td>\n",
       "      <td>270.0</td>\n",
       "      <td>360.0</td>\n",
       "      <td>450.0</td>\n",
       "      <td>510.0</td>\n",
       "      <td>600.0</td>\n",
       "      <td>720.0</td>\n",
       "      <td>...</td>\n",
       "      <td>NaN</td>\n",
       "      <td>NaN</td>\n",
       "      <td>NaN</td>\n",
       "      <td>NaN</td>\n",
       "      <td>NaN</td>\n",
       "      <td>NaN</td>\n",
       "      <td>NaN</td>\n",
       "      <td>NaN</td>\n",
       "      <td>NaN</td>\n",
       "      <td>NaN</td>\n",
       "    </tr>\n",
       "  </tbody>\n",
       "</table>\n",
       "<p>2 rows × 498 columns</p>\n",
       "</div>"
      ],
      "text/plain": [
       "      101   103    104    106    107    108    109    110    111    112 ...   \\\n",
       "101   0.0  90.0  180.0  270.0  360.0  450.0  540.0  600.0  690.0  810.0 ...    \n",
       "103  90.0   0.0   90.0  180.0  270.0  360.0  450.0  510.0  600.0  720.0 ...    \n",
       "\n",
       "     S22  S23  S24  S25  S26  S27  S28  S29  S30  S31  \n",
       "101  NaN  NaN  NaN  NaN  NaN  NaN  NaN  NaN  NaN  NaN  \n",
       "103  NaN  NaN  NaN  NaN  NaN  NaN  NaN  NaN  NaN  NaN  \n",
       "\n",
       "[2 rows x 498 columns]"
      ]
     },
     "execution_count": 16,
     "metadata": {},
     "output_type": "execute_result"
    }
   ],
   "source": [
    "#Calculate length (duration total) for shortest paths\n",
    "short_paths_lng = nx.all_pairs_dijkstra_path_length(G, weight = 'weight')\n",
    "sp_lng = pd.DataFrame(short_paths_lng)\n",
    "sp_lng.head(2)"
   ]
  },
  {
   "cell_type": "code",
   "execution_count": null,
   "metadata": {
    "collapsed": false
   },
   "outputs": [],
   "source": [
    "#create combined dataframe for ease of use. this takes over 1 hr to run\n",
    "nodes = G.nodes()\n",
    "original_list = pd.DataFrame(columns=('source','target','duration','path'))\n",
    "for i in G.nodes():\n",
    "    for p in nodes:\n",
    "        duration =  sp_lng.at[i,p]\n",
    "        path = sp.at[i,p]\n",
    "        row = pd.DataFrame.from_items([('source',[i]),('target',[p]),('duration',duration),('path',[path])])\n",
    "        original_list = pd.concat([original_list,row])\n"
   ]
  },
  {
   "cell_type": "code",
   "execution_count": null,
   "metadata": {
    "collapsed": true
   },
   "outputs": [],
   "source": [
    "#alternate merges - concats one df above the other with double keys \n",
    "pieces = {'duration': sp, 'path': sp_lng}\n",
    "original_listcon = pd.concat(pieces)"
   ]
  },
  {
   "cell_type": "code",
   "execution_count": null,
   "metadata": {
    "collapsed": false
   },
   "outputs": [],
   "source": [
    "#alternate merges\n",
    "drow=[]\n",
    "prow=[]\n",
    "\n",
    "for d in sp_lng.itertuples():\n",
    "    drow = drow.append(d.T)\n",
    "for p in sp.iterrows():\n",
    "    prow = prow.append(p.transform())\n",
    "cols = list(sp.columns.values)\n",
    "rws = list(sp.index.values)\n",
    "add = [('source',cols),('target',rws),('duration',drow),('path',prow)]\n",
    "original_list = pd.DataFrame.from_items(add)"
   ]
  },
  {
   "cell_type": "code",
   "execution_count": 18,
   "metadata": {
    "collapsed": false
   },
   "outputs": [],
   "source": [
    "#for future use so i don't have to run above\n",
    "original_list= pd.read_csv(\"data/sp_original_data.csv\")"
   ]
  },
  {
   "cell_type": "code",
   "execution_count": 19,
   "metadata": {
    "collapsed": false
   },
   "outputs": [],
   "source": [
    "#reindex \n",
    "original_list = original_list.reset_index()"
   ]
  },
  {
   "cell_type": "code",
   "execution_count": 20,
   "metadata": {
    "collapsed": false
   },
   "outputs": [
    {
     "data": {
      "text/html": [
       "<div>\n",
       "<table border=\"1\" class=\"dataframe\">\n",
       "  <thead>\n",
       "    <tr style=\"text-align: right;\">\n",
       "      <th></th>\n",
       "      <th>index</th>\n",
       "      <th>Unnamed: 0</th>\n",
       "      <th>source</th>\n",
       "      <th>target</th>\n",
       "      <th>duration</th>\n",
       "      <th>path</th>\n",
       "    </tr>\n",
       "  </thead>\n",
       "  <tbody>\n",
       "    <tr>\n",
       "      <th>0</th>\n",
       "      <td>0</td>\n",
       "      <td>0</td>\n",
       "      <td>G26</td>\n",
       "      <td>G26</td>\n",
       "      <td>0.0</td>\n",
       "      <td>['G26']</td>\n",
       "    </tr>\n",
       "    <tr>\n",
       "      <th>1</th>\n",
       "      <td>1</td>\n",
       "      <td>0</td>\n",
       "      <td>G26</td>\n",
       "      <td>G24</td>\n",
       "      <td>180.0</td>\n",
       "      <td>['G24', 'G26']</td>\n",
       "    </tr>\n",
       "  </tbody>\n",
       "</table>\n",
       "</div>"
      ],
      "text/plain": [
       "   index  Unnamed: 0 source target  duration            path\n",
       "0      0           0    G26    G26       0.0         ['G26']\n",
       "1      1           0    G26    G24     180.0  ['G24', 'G26']"
      ]
     },
     "execution_count": 20,
     "metadata": {},
     "output_type": "execute_result"
    }
   ],
   "source": [
    "original_list.head(2)"
   ]
  },
  {
   "cell_type": "code",
   "execution_count": 21,
   "metadata": {
    "collapsed": false
   },
   "outputs": [
    {
     "data": {
      "text/plain": [
       "474117060.0"
      ]
     },
     "execution_count": 21,
     "metadata": {},
     "output_type": "execute_result"
    }
   ],
   "source": [
    "#total duration for network\n",
    "orig_sum = original_list.duration.sum(skipna=True)\n",
    "orig_sum"
   ]
  },
  {
   "cell_type": "code",
   "execution_count": null,
   "metadata": {
    "collapsed": true
   },
   "outputs": [],
   "source": [
    "#Modify graph to prevent further change by adding or removing nodes or edges.\n",
    "#nx.freeze(G)"
   ]
  },
  {
   "cell_type": "code",
   "execution_count": 22,
   "metadata": {
    "collapsed": false
   },
   "outputs": [],
   "source": [
    "#remove node, recalculate paths and length , save in dict. This takes about 1:25min to run.\n",
    "duration = {}\n",
    "paths = {}\n",
    "for n in G:\n",
    "    #make a copy of the network\n",
    "    w_G = G.copy()\n",
    "    #remove a node from the copy\n",
    "    w_G.remove_node(n)\n",
    "    #recaclulate all pairs\n",
    "    duration[\"missing_duration_\"+n] = nx.all_pairs_dijkstra_path_length(w_G, weight = 'weight')\n",
    "    paths[\"missing_paths_\"+n] = nx.all_pairs_dijkstra_path(w_G, weight = 'weight') "
   ]
  },
  {
   "cell_type": "code",
   "execution_count": null,
   "metadata": {
    "collapsed": true
   },
   "outputs": [],
   "source": [
    "#paths\n",
    "paths_df = pd.DataFrame.from_dict(paths)\n",
    "#paths = pd.DataFrame.from_dict(paths)\n",
    "paths_df.to_csv('data/missing_paths.csv')"
   ]
  },
  {
   "cell_type": "code",
   "execution_count": 24,
   "metadata": {
    "collapsed": false
   },
   "outputs": [],
   "source": [
    "duration_df = pd.DataFrame.from_dict(duration)\n",
    "#paths = pd.DataFrame.from_dict(paths)\n",
    "duration_df.to_csv('data/missing_duration.csv')"
   ]
  },
  {
   "cell_type": "code",
   "execution_count": null,
   "metadata": {
    "collapsed": false
   },
   "outputs": [],
   "source": [
    "#remove node pairs, recalculate paths and length , save in dict\n",
    "duration_pair = {}\n",
    "paths_pair = {}\n",
    "for index, row in original_list.iterrows():\n",
    "    #make a copy of the network\n",
    "    p_G = G.copy()\n",
    "    #remove a pair of nodes from the copy\n",
    "    p_G.remove_node(row['source'])\n",
    "    if p_G.has_node(row['target']):\n",
    "        p_G.remove_node(row['target'])\n",
    "    #recaclulate all pairs\n",
    "    duration_pair[\"pair_missing_duration_\"+n] = nx.all_pairs_dijkstra_path_length(p_G, weight = 'weight')\n",
    "    paths_pair[\"pair_missing_paths_\"+n] = nx.all_pairs_dijkstra_path(p_G, weight = 'weight')\n",
    "\n",
    "    "
   ]
  },
  {
   "cell_type": "markdown",
   "metadata": {},
   "source": [
    "<h1> Exporting Data"
   ]
  },
  {
   "cell_type": "code",
   "execution_count": null,
   "metadata": {
    "collapsed": true
   },
   "outputs": [],
   "source": [
    "#to file\n",
    "paths_pair_df = pd.DataFrame.from_dict(paths_pair)\n",
    "paths_pair_df.to_csv('data/missing_pair_paths.csv')\n",
    "duration_pair_df = pd.DataFrame.from_dict(duration_pair)\n",
    "duration_pair_df.to_csv('data/missing_pair_duration.csv')"
   ]
  },
  {
   "cell_type": "code",
   "execution_count": null,
   "metadata": {
    "collapsed": false
   },
   "outputs": [],
   "source": [
    "#For future use:\n",
    "\n",
    "#node data and attributes\n",
    "node_data = G.nodes(data=True)\n",
    "nd_data = pd.DataFrame(node_data)\n",
    "nd_data.to_csv('data/node_data.csv')\n",
    "\n",
    "\n",
    "#edge data and attributes\n",
    "edge_data = G.edges(data=True)\n",
    "eg_data = pd.DataFrame(edge_data)\n",
    "eg_data.to_csv('data/edge_data.csv')\n",
    "\n",
    "\n",
    "#get the weights of all the edges (node pairs)\n",
    "edge_weights = pd.DataFrame(G.edges(data='weight'))\n",
    "edge_weights.to_csv('data/edge_data.csv')\n",
    "\n",
    "\n",
    "#Find orphans: nodes with no edges\n",
    "no_edges = nx.isolates(G)\n",
    "noedges = pd.DataFrame(no_edges)\n",
    "noedges.to_csv('data/no_edges.csv')\n",
    "\n",
    "\n",
    "#export node-link info as json for d3 mapping\n",
    "data = json_graph.node_link_data(G)\n",
    "with open('nodelinkdata.json', 'w') as outfile:\n",
    "    json.dump(data, outfile)"
   ]
  },
  {
   "cell_type": "code",
   "execution_count": null,
   "metadata": {
    "collapsed": true
   },
   "outputs": [],
   "source": [
    "#send list of original durations and paths to file\n",
    "original_metric.to_csv('data/original_metric_data.csv')\n",
    "\n",
    "#send dict of single node removal durations and paths to file\n",
    "#single_removal_metric.to_csv('data/single_removal_metric_data.csv')\n",
    "\n",
    "paths = pd.DataFrame(paths)\n",
    "#paths = pd.DataFrame.from_dict(paths)\n",
    "paths.to_csv('data/missing_paths.csv')\n",
    "duartion = pd.DataFrame(duration)\n",
    "#paths = pd.DataFrame.from_dict(paths)\n",
    "duration.to_csv('data/missing_duration.csv')\n",
    "\n",
    "\n",
    "#send dict of single node removal durations and paths to file\n",
    "pair_removal_metric.to_csv('data/pair_removal_metric_data.csv')"
   ]
  }
 ],
 "metadata": {
  "anaconda-cloud": {},
  "kernelspec": {
   "display_name": "Python [conda root]",
   "language": "python",
   "name": "conda-root-py"
  },
  "language_info": {
   "codemirror_mode": {
    "name": "ipython",
    "version": 2
   },
   "file_extension": ".py",
   "mimetype": "text/x-python",
   "name": "python",
   "nbconvert_exporter": "python",
   "pygments_lexer": "ipython2",
   "version": "2.7.12"
  }
 },
 "nbformat": 4,
 "nbformat_minor": 1
}
