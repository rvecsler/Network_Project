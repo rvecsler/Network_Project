{
 "cells": [
  {
   "cell_type": "code",
   "execution_count": 25,
   "metadata": {
    "collapsed": false
   },
   "outputs": [],
   "source": [
    "# Prepare network data\n",
    "\n",
    "import numpy as np\n",
    "import pandas as pd\n",
    "\n",
    "import datetime as dt\n",
    "import time\n",
    "\n",
    "import geopandas as gp\n",
    "from geopandas import sjoin\n",
    "import shapely as shp\n",
    "from shapely.geometry import Point\n",
    "import fiona as fio\n",
    "from fiona.crs import from_epsg\n",
    "\n",
    "import matplotlib.pyplot as plt\n",
    "%matplotlib inline"
   ]
  },
  {
   "cell_type": "code",
   "execution_count": 26,
   "metadata": {
    "collapsed": false
   },
   "outputs": [],
   "source": [
    "# pull turnstile data\n",
    "\n",
    "#mta_2016_wkdy_avg = pd.read_csv('data/mta_2016_weekday_avg')\n",
    "#mta_2016_mrush_avg = pd.read_csv('data/mta_2016_morn_rush_avg')"
   ]
  },
  {
   "cell_type": "code",
   "execution_count": 27,
   "metadata": {
    "collapsed": false
   },
   "outputs": [],
   "source": [
    "# get rid of those weird columns\n",
    "\n",
    "#mta_2016_wkdy_avg.drop(['Unnamed: 0'],axis=1,inplace=True)\n",
    "#mta_2016_mrush_avg.drop(['Unnamed: 0'],axis=1,inplace=True)"
   ]
  },
  {
   "cell_type": "code",
   "execution_count": null,
   "metadata": {
    "collapsed": false,
    "scrolled": true
   },
   "outputs": [],
   "source": [
    "#mta_2016_wkdy_avg.head(4)"
   ]
  },
  {
   "cell_type": "code",
   "execution_count": null,
   "metadata": {
    "collapsed": false,
    "scrolled": true
   },
   "outputs": [],
   "source": [
    "#mta_2016_mrush_avg.head(4)"
   ]
  },
  {
   "cell_type": "markdown",
   "metadata": {},
   "source": [
    "### Using CTPP Data now, not LEHD.\n",
    "\n",
    "### Ignore below... will change or point to different script..."
   ]
  },
  {
   "cell_type": "code",
   "execution_count": 30,
   "metadata": {
    "collapsed": false
   },
   "outputs": [],
   "source": [
    "# pull O-D data\n",
    "\n",
    "od = pd.read_csv('ny_od_main_JT05_2014.csv')"
   ]
  },
  {
   "cell_type": "code",
   "execution_count": 31,
   "metadata": {
    "collapsed": false,
    "scrolled": true
   },
   "outputs": [
    {
     "name": "stderr",
     "output_type": "stream",
     "text": [
      "/anaconda/lib/python2.7/site-packages/ipykernel/__main__.py:4: SettingWithCopyWarning: \n",
      "A value is trying to be set on a copy of a slice from a DataFrame.\n",
      "Try using .loc[row_indexer,col_indexer] = value instead\n",
      "\n",
      "See the caveats in the documentation: http://pandas.pydata.org/pandas-docs/stable/indexing.html#indexing-view-versus-copy\n",
      "/anaconda/lib/python2.7/site-packages/ipykernel/__main__.py:5: SettingWithCopyWarning: \n",
      "A value is trying to be set on a copy of a slice from a DataFrame.\n",
      "Try using .loc[row_indexer,col_indexer] = value instead\n",
      "\n",
      "See the caveats in the documentation: http://pandas.pydata.org/pandas-docs/stable/indexing.html#indexing-view-versus-copy\n",
      "/anaconda/lib/python2.7/site-packages/ipykernel/__main__.py:7: SettingWithCopyWarning: \n",
      "A value is trying to be set on a copy of a slice from a DataFrame\n",
      "\n",
      "See the caveats in the documentation: http://pandas.pydata.org/pandas-docs/stable/indexing.html#indexing-view-versus-copy\n"
     ]
    }
   ],
   "source": [
    "# trim and convert geos to strings so we can break them up to Boroughs, Tracts, Blocks, etc.\n",
    "\n",
    "od.rename(columns={'S000':'jobs'},inplace=True)\n",
    "od_cut = od[['h_geocode','w_geocode','jobs']]\n",
    "\n",
    "od_cut['home_geo'] = od_cut['h_geocode'].astype(str)\n",
    "od_cut['work_geo'] = od_cut['w_geocode'].astype(str)\n",
    "\n",
    "od_cut.drop(['h_geocode','w_geocode'], axis=1,inplace=True)"
   ]
  },
  {
   "cell_type": "code",
   "execution_count": 32,
   "metadata": {
    "collapsed": false
   },
   "outputs": [],
   "source": [
    "hm_st = []\n",
    "hm_boro_fips = []\n",
    "hm_trk = []\n",
    "hm_blk=[]\n",
    "\n",
    "hm_st = od_cut['home_geo'].str[:2]\n",
    "hm_boro_fips = od_cut['home_geo'].str[2:5]\n",
    "hm_trk = od_cut['home_geo'].str[5:11]\n",
    "hm_blk = od_cut['home_geo'].str[-4:]"
   ]
  },
  {
   "cell_type": "code",
   "execution_count": 33,
   "metadata": {
    "collapsed": false
   },
   "outputs": [
    {
     "name": "stderr",
     "output_type": "stream",
     "text": [
      "/anaconda/lib/python2.7/site-packages/ipykernel/__main__.py:1: SettingWithCopyWarning: \n",
      "A value is trying to be set on a copy of a slice from a DataFrame.\n",
      "Try using .loc[row_indexer,col_indexer] = value instead\n",
      "\n",
      "See the caveats in the documentation: http://pandas.pydata.org/pandas-docs/stable/indexing.html#indexing-view-versus-copy\n",
      "  if __name__ == '__main__':\n",
      "/anaconda/lib/python2.7/site-packages/ipykernel/__main__.py:2: SettingWithCopyWarning: \n",
      "A value is trying to be set on a copy of a slice from a DataFrame.\n",
      "Try using .loc[row_indexer,col_indexer] = value instead\n",
      "\n",
      "See the caveats in the documentation: http://pandas.pydata.org/pandas-docs/stable/indexing.html#indexing-view-versus-copy\n",
      "  from ipykernel import kernelapp as app\n",
      "/anaconda/lib/python2.7/site-packages/ipykernel/__main__.py:3: SettingWithCopyWarning: \n",
      "A value is trying to be set on a copy of a slice from a DataFrame.\n",
      "Try using .loc[row_indexer,col_indexer] = value instead\n",
      "\n",
      "See the caveats in the documentation: http://pandas.pydata.org/pandas-docs/stable/indexing.html#indexing-view-versus-copy\n",
      "  app.launch_new_instance()\n",
      "/anaconda/lib/python2.7/site-packages/ipykernel/__main__.py:4: SettingWithCopyWarning: \n",
      "A value is trying to be set on a copy of a slice from a DataFrame.\n",
      "Try using .loc[row_indexer,col_indexer] = value instead\n",
      "\n",
      "See the caveats in the documentation: http://pandas.pydata.org/pandas-docs/stable/indexing.html#indexing-view-versus-copy\n"
     ]
    }
   ],
   "source": [
    "od_cut['home_st'] = hm_st\n",
    "od_cut['home_boro_fips'] = hm_boro_fips\n",
    "od_cut['home_tract'] = hm_trk\n",
    "od_cut['home_block'] = hm_blk"
   ]
  },
  {
   "cell_type": "code",
   "execution_count": 34,
   "metadata": {
    "collapsed": true
   },
   "outputs": [],
   "source": [
    "wk_st = []\n",
    "wk_boro_fips = []\n",
    "wk_trk = []\n",
    "wk_blk=[]\n",
    "\n",
    "wk_st = od_cut['work_geo'].str[:2]\n",
    "wk_boro_fips = od_cut['work_geo'].str[2:5]\n",
    "wk_trk = od_cut['work_geo'].str[5:11]\n",
    "wk_blk = od_cut['work_geo'].str[-4:]"
   ]
  },
  {
   "cell_type": "code",
   "execution_count": 35,
   "metadata": {
    "collapsed": false,
    "scrolled": true
   },
   "outputs": [
    {
     "name": "stderr",
     "output_type": "stream",
     "text": [
      "/anaconda/lib/python2.7/site-packages/ipykernel/__main__.py:1: SettingWithCopyWarning: \n",
      "A value is trying to be set on a copy of a slice from a DataFrame.\n",
      "Try using .loc[row_indexer,col_indexer] = value instead\n",
      "\n",
      "See the caveats in the documentation: http://pandas.pydata.org/pandas-docs/stable/indexing.html#indexing-view-versus-copy\n",
      "  if __name__ == '__main__':\n",
      "/anaconda/lib/python2.7/site-packages/ipykernel/__main__.py:2: SettingWithCopyWarning: \n",
      "A value is trying to be set on a copy of a slice from a DataFrame.\n",
      "Try using .loc[row_indexer,col_indexer] = value instead\n",
      "\n",
      "See the caveats in the documentation: http://pandas.pydata.org/pandas-docs/stable/indexing.html#indexing-view-versus-copy\n",
      "  from ipykernel import kernelapp as app\n",
      "/anaconda/lib/python2.7/site-packages/ipykernel/__main__.py:3: SettingWithCopyWarning: \n",
      "A value is trying to be set on a copy of a slice from a DataFrame.\n",
      "Try using .loc[row_indexer,col_indexer] = value instead\n",
      "\n",
      "See the caveats in the documentation: http://pandas.pydata.org/pandas-docs/stable/indexing.html#indexing-view-versus-copy\n",
      "  app.launch_new_instance()\n",
      "/anaconda/lib/python2.7/site-packages/ipykernel/__main__.py:4: SettingWithCopyWarning: \n",
      "A value is trying to be set on a copy of a slice from a DataFrame.\n",
      "Try using .loc[row_indexer,col_indexer] = value instead\n",
      "\n",
      "See the caveats in the documentation: http://pandas.pydata.org/pandas-docs/stable/indexing.html#indexing-view-versus-copy\n"
     ]
    }
   ],
   "source": [
    "od_cut['work_st'] = wk_st\n",
    "od_cut['work_boro_fips'] = wk_boro_fips\n",
    "od_cut['work_tract'] = wk_trk\n",
    "od_cut['work_block'] = wk_blk"
   ]
  },
  {
   "cell_type": "code",
   "execution_count": 36,
   "metadata": {
    "collapsed": false
   },
   "outputs": [],
   "source": [
    "# keep only NYC O-D\n",
    "# revisit in case we need commuters outside the city\n",
    "\n",
    "od2 = od_cut[(od_cut['home_boro_fips'] == '005') |\n",
    "             (od_cut['home_boro_fips'] == '061') | \n",
    "             (od_cut['home_boro_fips'] == '081') |\n",
    "             (od_cut['home_boro_fips'] == '047')]\n",
    "             \n",
    "od_nyc = od2[(od2['work_boro_fips'] == '005') |\n",
    "             (od2['work_boro_fips'] == '061') | \n",
    "             (od2['work_boro_fips'] == '081') |\n",
    "             (od2['work_boro_fips'] == '047')]\n",
    "\n",
    "# 005 - Bronx\n",
    "# 047 - Kings (Brooklyn)\n",
    "# 061 - New York (Manhattan)\n",
    "# 081 - Queens\n",
    "# 085 - Richmond (Staten Island) ---- not included"
   ]
  },
  {
   "cell_type": "code",
   "execution_count": 39,
   "metadata": {
    "collapsed": false,
    "scrolled": true
   },
   "outputs": [
    {
     "data": {
      "text/html": [
       "<div>\n",
       "<table border=\"1\" class=\"dataframe\">\n",
       "  <thead>\n",
       "    <tr style=\"text-align: right;\">\n",
       "      <th></th>\n",
       "      <th>jobs</th>\n",
       "      <th>home_geo</th>\n",
       "      <th>work_geo</th>\n",
       "      <th>home_st</th>\n",
       "      <th>home_boro_fips</th>\n",
       "      <th>home_tract</th>\n",
       "      <th>home_block</th>\n",
       "      <th>work_st</th>\n",
       "      <th>work_boro_fips</th>\n",
       "      <th>work_tract</th>\n",
       "      <th>work_block</th>\n",
       "    </tr>\n",
       "  </thead>\n",
       "  <tbody>\n",
       "    <tr>\n",
       "      <th>0</th>\n",
       "      <td>1</td>\n",
       "      <td>360050001001000</td>\n",
       "      <td>360470520002008</td>\n",
       "      <td>36</td>\n",
       "      <td>005</td>\n",
       "      <td>000100</td>\n",
       "      <td>1000</td>\n",
       "      <td>36</td>\n",
       "      <td>047</td>\n",
       "      <td>052000</td>\n",
       "      <td>2008</td>\n",
       "    </tr>\n",
       "    <tr>\n",
       "      <th>1</th>\n",
       "      <td>1</td>\n",
       "      <td>360050002001000</td>\n",
       "      <td>360610031001014</td>\n",
       "      <td>36</td>\n",
       "      <td>005</td>\n",
       "      <td>000200</td>\n",
       "      <td>1000</td>\n",
       "      <td>36</td>\n",
       "      <td>061</td>\n",
       "      <td>003100</td>\n",
       "      <td>1014</td>\n",
       "    </tr>\n",
       "    <tr>\n",
       "      <th>2</th>\n",
       "      <td>1</td>\n",
       "      <td>360050002002000</td>\n",
       "      <td>360810853003000</td>\n",
       "      <td>36</td>\n",
       "      <td>005</td>\n",
       "      <td>000200</td>\n",
       "      <td>2000</td>\n",
       "      <td>36</td>\n",
       "      <td>081</td>\n",
       "      <td>085300</td>\n",
       "      <td>3000</td>\n",
       "    </tr>\n",
       "  </tbody>\n",
       "</table>\n",
       "</div>"
      ],
      "text/plain": [
       "   jobs         home_geo         work_geo home_st home_boro_fips home_tract  \\\n",
       "0     1  360050001001000  360470520002008      36            005     000100   \n",
       "1     1  360050002001000  360610031001014      36            005     000200   \n",
       "2     1  360050002002000  360810853003000      36            005     000200   \n",
       "\n",
       "  home_block work_st work_boro_fips work_tract work_block  \n",
       "0       1000      36            047     052000       2008  \n",
       "1       1000      36            061     003100       1014  \n",
       "2       2000      36            081     085300       3000  "
      ]
     },
     "execution_count": 39,
     "metadata": {},
     "output_type": "execute_result"
    }
   ],
   "source": [
    "od_nyc.head(3)"
   ]
  },
  {
   "cell_type": "code",
   "execution_count": 40,
   "metadata": {
    "collapsed": false
   },
   "outputs": [
    {
     "name": "stderr",
     "output_type": "stream",
     "text": [
      "/anaconda/lib/python2.7/site-packages/ipykernel/__main__.py:1: SettingWithCopyWarning: \n",
      "A value is trying to be set on a copy of a slice from a DataFrame\n",
      "\n",
      "See the caveats in the documentation: http://pandas.pydata.org/pandas-docs/stable/indexing.html#indexing-view-versus-copy\n",
      "  if __name__ == '__main__':\n"
     ]
    }
   ],
   "source": [
    "od_nyc.sort_values(by='home_geo',inplace=True)\n",
    "od_nyc.reset_index(drop=True,inplace=True)"
   ]
  },
  {
   "cell_type": "code",
   "execution_count": 41,
   "metadata": {
    "collapsed": false
   },
   "outputs": [],
   "source": [
    "# pull nyc shapefiles\n",
    "\n",
    "blocks_shp_nyc = gp.read_file('nycb2010_17b/nycb2010.shp')"
   ]
  },
  {
   "cell_type": "code",
   "execution_count": 42,
   "metadata": {
    "collapsed": true
   },
   "outputs": [],
   "source": [
    "blocks_shp_nyc[\"lon\"] = blocks_shp_nyc.centroid.map(lambda p: p.x)\n",
    "blocks_shp_nyc[\"lat\"] = blocks_shp_nyc.centroid.map(lambda p: p.y)"
   ]
  },
  {
   "cell_type": "code",
   "execution_count": 43,
   "metadata": {
    "collapsed": false,
    "scrolled": true
   },
   "outputs": [
    {
     "data": {
      "text/html": [
       "<div>\n",
       "<table border=\"1\" class=\"dataframe\">\n",
       "  <thead>\n",
       "    <tr style=\"text-align: right;\">\n",
       "      <th></th>\n",
       "      <th>BCTCB2010</th>\n",
       "      <th>BoroCode</th>\n",
       "      <th>BoroName</th>\n",
       "      <th>CB2010</th>\n",
       "      <th>CT2010</th>\n",
       "      <th>Shape_Area</th>\n",
       "      <th>Shape_Leng</th>\n",
       "      <th>geometry</th>\n",
       "      <th>lon</th>\n",
       "      <th>lat</th>\n",
       "    </tr>\n",
       "  </thead>\n",
       "  <tbody>\n",
       "    <tr>\n",
       "      <th>0</th>\n",
       "      <td>50009001000</td>\n",
       "      <td>5</td>\n",
       "      <td>Staten Island</td>\n",
       "      <td>1000</td>\n",
       "      <td>000900</td>\n",
       "      <td>244589.603884</td>\n",
       "      <td>2508.948115</td>\n",
       "      <td>POLYGON ((962269.1260375977 173705.5001831055,...</td>\n",
       "      <td>961884.615019</td>\n",
       "      <td>173941.733904</td>\n",
       "    </tr>\n",
       "    <tr>\n",
       "      <th>1</th>\n",
       "      <td>50020011000</td>\n",
       "      <td>5</td>\n",
       "      <td>Staten Island</td>\n",
       "      <td>1000</td>\n",
       "      <td>002001</td>\n",
       "      <td>111006.286826</td>\n",
       "      <td>1345.886422</td>\n",
       "      <td>POLYGON ((964642.2676391602 161835.2651977539,...</td>\n",
       "      <td>964403.711675</td>\n",
       "      <td>161848.999102</td>\n",
       "    </tr>\n",
       "  </tbody>\n",
       "</table>\n",
       "</div>"
      ],
      "text/plain": [
       "     BCTCB2010 BoroCode       BoroName CB2010  CT2010     Shape_Area  \\\n",
       "0  50009001000        5  Staten Island   1000  000900  244589.603884   \n",
       "1  50020011000        5  Staten Island   1000  002001  111006.286826   \n",
       "\n",
       "    Shape_Leng                                           geometry  \\\n",
       "0  2508.948115  POLYGON ((962269.1260375977 173705.5001831055,...   \n",
       "1  1345.886422  POLYGON ((964642.2676391602 161835.2651977539,...   \n",
       "\n",
       "             lon            lat  \n",
       "0  961884.615019  173941.733904  \n",
       "1  964403.711675  161848.999102  "
      ]
     },
     "execution_count": 43,
     "metadata": {},
     "output_type": "execute_result"
    }
   ],
   "source": [
    "blocks_shp_nyc.head(2)"
   ]
  },
  {
   "cell_type": "code",
   "execution_count": 44,
   "metadata": {
    "collapsed": true
   },
   "outputs": [],
   "source": [
    "# pull netork nodes \n",
    "\n",
    "ndata = pd.read_csv(\"data/nyc_subway_stations_with_lines.csv\")"
   ]
  },
  {
   "cell_type": "code",
   "execution_count": 45,
   "metadata": {
    "collapsed": true
   },
   "outputs": [],
   "source": [
    "geometry = [Point(xy) for xy in zip(ndata['stop_lon'], ndata['stop_lat'])]\n",
    "crs = {'init': 'epsg:4326', 'no_defs': True}\n",
    "#    crs = {'init': 'epsg:2263', 'no_defs': True}\n",
    "ndata_g = gp.GeoDataFrame(ndata, crs=crs, geometry=geometry)       \n",
    "ndata_g = ndata_g.to_crs(epsg=2263)\n",
    "ndata_g.drop(['stop_lon','stop_lat','Unnamed: 0'],axis=1,inplace=True)\n",
    "ndata_g[\"stop_lon\"] = ndata_g.centroid.map(lambda p: p.x)\n",
    "ndata_g[\"stop_lat\"] = ndata_g.centroid.map(lambda p: p.y)"
   ]
  },
  {
   "cell_type": "code",
   "execution_count": 46,
   "metadata": {
    "collapsed": false
   },
   "outputs": [
    {
     "data": {
      "text/html": [
       "<div>\n",
       "<table border=\"1\" class=\"dataframe\">\n",
       "  <thead>\n",
       "    <tr style=\"text-align: right;\">\n",
       "      <th></th>\n",
       "      <th>stop_id</th>\n",
       "      <th>stop_name</th>\n",
       "      <th>Borough</th>\n",
       "      <th>Daytime Routes</th>\n",
       "      <th>geometry</th>\n",
       "      <th>stop_lon</th>\n",
       "      <th>stop_lat</th>\n",
       "    </tr>\n",
       "  </thead>\n",
       "  <tbody>\n",
       "    <tr>\n",
       "      <th>0</th>\n",
       "      <td>101</td>\n",
       "      <td>Van Cortlandt Park - 242 St</td>\n",
       "      <td>Bx</td>\n",
       "      <td>1</td>\n",
       "      <td>POINT (1012291.155985304 263271.2080455146)</td>\n",
       "      <td>1.012291e+06</td>\n",
       "      <td>263271.208046</td>\n",
       "    </tr>\n",
       "    <tr>\n",
       "      <th>1</th>\n",
       "      <td>103</td>\n",
       "      <td>238 St</td>\n",
       "      <td>Bx</td>\n",
       "      <td>1</td>\n",
       "      <td>POINT (1011660.704076381 261601.4418330777)</td>\n",
       "      <td>1.011661e+06</td>\n",
       "      <td>261601.441833</td>\n",
       "    </tr>\n",
       "    <tr>\n",
       "      <th>2</th>\n",
       "      <td>104</td>\n",
       "      <td>231 St</td>\n",
       "      <td>Bx</td>\n",
       "      <td>1</td>\n",
       "      <td>POINT (1010566.908281725 259483.0473639019)</td>\n",
       "      <td>1.010567e+06</td>\n",
       "      <td>259483.047364</td>\n",
       "    </tr>\n",
       "  </tbody>\n",
       "</table>\n",
       "</div>"
      ],
      "text/plain": [
       "  stop_id                    stop_name Borough Daytime Routes  \\\n",
       "0     101  Van Cortlandt Park - 242 St      Bx              1   \n",
       "1     103                       238 St      Bx              1   \n",
       "2     104                       231 St      Bx              1   \n",
       "\n",
       "                                      geometry      stop_lon       stop_lat  \n",
       "0  POINT (1012291.155985304 263271.2080455146)  1.012291e+06  263271.208046  \n",
       "1  POINT (1011660.704076381 261601.4418330777)  1.011661e+06  261601.441833  \n",
       "2  POINT (1010566.908281725 259483.0473639019)  1.010567e+06  259483.047364  "
      ]
     },
     "execution_count": 46,
     "metadata": {},
     "output_type": "execute_result"
    }
   ],
   "source": [
    "ndata_g.head(3)"
   ]
  },
  {
   "cell_type": "code",
   "execution_count": 47,
   "metadata": {
    "collapsed": false
   },
   "outputs": [
    {
     "data": {
      "text/plain": [
       "<matplotlib.axes._subplots.AxesSubplot at 0x1267f8690>"
      ]
     },
     "execution_count": 47,
     "metadata": {},
     "output_type": "execute_result"
    },
    {
     "data": {
      "image/png": "[encoded data removed]",
      "text/plain": [
       "<matplotlib.figure.Figure at 0x1267f80d0>"
      ]
     },
     "metadata": {},
     "output_type": "display_data"
    }
   ],
   "source": [
    "# just to get some context re block centroids & stations\n",
    "\n",
    "f, ax = plt.subplots(figsize=(15,15))\n",
    "ax.get_xaxis().set_visible(False)\n",
    "ax.get_yaxis().set_visible(False)\n",
    "blocks_shp_nyc[blocks_shp_nyc['BoroCode'] == '1'].geometry.centroid.plot(color='red',ax=ax)\n",
    "ndata_g[ndata_g['Borough'] == 'M'].geometry.plot(color='black',markersize = 7, ax=ax)"
   ]
  },
  {
   "cell_type": "code",
   "execution_count": 49,
   "metadata": {
    "collapsed": true
   },
   "outputs": [],
   "source": [
    "### Now using CTTP, not LEHD.\n",
    "\n",
    "# write to files\n",
    "\n",
    "# od_nyc.to_csv('data/od_nyc.csv')\n",
    "# blocks_shp_nyc.to_csv('data/blocks_nyc.csv')\n",
    "# ndata_g.to_csv('data/ndata_g.csv')"
   ]
  },
  {
   "cell_type": "code",
   "execution_count": null,
   "metadata": {
    "collapsed": true
   },
   "outputs": [],
   "source": [
    "##### No longer\n",
    "\n",
    "\n",
    "# Need to pair O-D's with shortest subway paths while minimizing walking time from block centroid to/from associated\n",
    "# node/stations.  (That way we allocate commute weight (as a proxy for passenger flow)).  Then incorporate turnstile\n",
    "# activity to estimate to and from where people are going.  Thus far, assuming a 4-hour period.\n",
    "# ...May need further adjustments to reconcile for any network imbalance.  \n",
    "\n",
    "# To be continued here or separate notebook.\n"
   ]
  }
 ],
 "metadata": {
  "kernelspec": {
   "display_name": "Python 2",
   "language": "python",
   "name": "python2"
  },
  "language_info": {
   "codemirror_mode": {
    "name": "ipython",
    "version": 2
   },
   "file_extension": ".py",
   "mimetype": "text/x-python",
   "name": "python",
   "nbconvert_exporter": "python",
   "pygments_lexer": "ipython2",
   "version": "2.7.13"
  }
 },
 "nbformat": 4,
 "nbformat_minor": 1
}
